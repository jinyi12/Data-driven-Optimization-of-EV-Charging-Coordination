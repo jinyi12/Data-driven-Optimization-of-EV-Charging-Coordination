{
 "cells": [
  {
   "cell_type": "code",
   "execution_count": 1,
   "metadata": {},
   "outputs": [
    {
     "name": "stderr",
     "output_type": "stream",
     "text": [
      "/opt/homebrew/Caskroom/miniforge/base/envs/me555/lib/python3.9/site-packages/tqdm/auto.py:22: TqdmWarning: IProgress not found. Please update jupyter and ipywidgets. See https://ipywidgets.readthedocs.io/en/stable/user_install.html\n",
      "  from .autonotebook import tqdm as notebook_tqdm\n"
     ]
    }
   ],
   "source": [
    "import torch\n",
    "import torch_geometric as tg\n",
    "import pandas as pd\n",
    "import numpy as np\n",
    "import matplotlib.pyplot as plt\n",
    "import networkx as nx\n",
    "import pickle as pkl\n",
    "import scipy\n",
    "\n",
    "device = torch.device(\"cpu\")"
   ]
  },
  {
   "cell_type": "code",
   "execution_count": 2,
   "metadata": {},
   "outputs": [],
   "source": [
    "data_path = \"./Data/output/\"\n",
    "n_sample = 30\n",
    "\n",
    "input_name = \"input_dict_\"\n",
    "solution_name = \"solution_dict_\"\n",
    "\n",
    "input_dict_list = []\n",
    "solution_dict_list = []\n",
    "\n",
    "# read input, solution, and indices dict pkl file from 1 to n_sample\n",
    "for i in range(1, n_sample + 1):\n",
    "    with open(data_path + input_name + str(i) + \".pkl\", \"rb\") as f:\n",
    "        input_dict_list.append(pkl.load(f))\n",
    "\n",
    "    with open(data_path + solution_name + str(i) + \".pkl\", \"rb\") as f:\n",
    "        solution_dict_list.append(pkl.load(f))\n",
    "\n",
    "with open(data_path + \"indices_dict.pkl\", \"rb\") as f:\n",
    "    indices_dict = pkl.load(f)"
   ]
  },
  {
   "cell_type": "code",
   "execution_count": 3,
   "metadata": {},
   "outputs": [
    {
     "data": {
      "text/plain": [
       "<1119720x577440 sparse matrix of type '<class 'numpy.float64'>'\n",
       "\twith 2392970 stored elements in Compressed Sparse Row format>"
      ]
     },
     "execution_count": 3,
     "metadata": {},
     "output_type": "execute_result"
    }
   ],
   "source": [
    "input_dict_list[0][\"A\"]"
   ]
  },
  {
   "cell_type": "code",
   "execution_count": 4,
   "metadata": {},
   "outputs": [
    {
     "name": "stdout",
     "output_type": "stream",
     "text": [
      "1697160\n"
     ]
    }
   ],
   "source": [
    "n_vars = input_dict_list[0][\"A\"].shape[1]\n",
    "n_cons = input_dict_list[0][\"A\"].shape[0]\n",
    "\n",
    "N = n_vars + n_cons\n",
    "\n",
    "print(N)"
   ]
  },
  {
   "cell_type": "code",
   "execution_count": 5,
   "metadata": {},
   "outputs": [],
   "source": [
    "# convert A matrix of bipartite data to COO format\n",
    "\n",
    "input_data_dict = []\n",
    "\n",
    "for i in range(n_sample):\n",
    "\n",
    "    tmp_dict = {}\n",
    "\n",
    "    # for row in range(n_vars):\n",
    "    #     for col in range(n_cons):\n",
    "    #         if input_dict_list[i][\"A\"][row, col] != 0:\n",
    "    #             adj_matrix[row, n_vars + col] = input_dict_list[i][\"A\"][row, col]\n",
    "    #             adj_matrix[n_vars + col, row] = input_dict_list[i][\"A\"][row, col]\n",
    "\n",
    "    I, J, V = scipy.sparse.find(input_dict_list[i][\"A\"])\n",
    "    # adj_matrix[I, n_vars + J] = V\n",
    "    # adj_matrix[n_vars + J, I] = V\n",
    "\n",
    "    # # convert to COO format\n",
    "    edge_index = torch.stack([torch.tensor(I), torch.tensor(n_cons + J)], dim=0)\n",
    "\n",
    "    # expand V to 2D\n",
    "    edge_attr = torch.tensor(V).unsqueeze(1)\n",
    "\n",
    "    tmp_dict[\"edge_index\"] = edge_index\n",
    "    tmp_dict[\"edge_attr\"] = edge_attr\n",
    "\n",
    "    input_data_dict.append(tmp_dict)\n"
   ]
  },
  {
   "cell_type": "code",
   "execution_count": 6,
   "metadata": {},
   "outputs": [
    {
     "name": "stdout",
     "output_type": "stream",
     "text": [
      "shape of edge_index:  torch.Size([2, 2392970])\n",
      "shape of edge_attr:  torch.Size([2392970, 1])\n"
     ]
    }
   ],
   "source": [
    "# print shape of edge_index and edge_attr\n",
    "print(\"shape of edge_index: \", input_data_dict[0][\"edge_index\"].shape)\n",
    "print(\"shape of edge_attr: \", input_data_dict[0][\"edge_attr\"].shape)"
   ]
  },
  {
   "cell_type": "code",
   "execution_count": 7,
   "metadata": {},
   "outputs": [
    {
     "name": "stdout",
     "output_type": "stream",
     "text": [
      "(1119720,)\n",
      "(577440,)\n"
     ]
    }
   ],
   "source": [
    "print(input_dict_list[0][\"b\"].shape)\n",
    "print(input_dict_list[0][\"c\"].shape)"
   ]
  },
  {
   "cell_type": "code",
   "execution_count": 8,
   "metadata": {},
   "outputs": [],
   "source": [
    "# node features\n",
    "for i in range(n_sample):\n",
    "    input_data_dict[i][\"x\"] = torch.cat(\n",
    "        [torch.tensor(input_dict_list[i][\"b\"]), torch.tensor(input_dict_list[i][\"c\"])]\n",
    "    )\n",
    "\n",
    "    # expand dimension\n",
    "    input_data_dict[i][\"x\"] = input_data_dict[i][\"x\"].unsqueeze(1)    "
   ]
  },
  {
   "cell_type": "code",
   "execution_count": 9,
   "metadata": {},
   "outputs": [
    {
     "name": "stdout",
     "output_type": "stream",
     "text": [
      "dict_keys(['DayAheadBuySellStatus', 'DayAheadOnOffChargingStatus', 'DayAheadChargingPower', 'DayAheadUtilityPowerOutput', 'SOC', 'output'])\n"
     ]
    }
   ],
   "source": [
    "# solution dict keys\n",
    "print(solution_dict_list[0].keys())"
   ]
  },
  {
   "cell_type": "code",
   "execution_count": 10,
   "metadata": {},
   "outputs": [
    {
     "data": {
      "text/plain": [
       "(1119720, 577440)"
      ]
     },
     "execution_count": 10,
     "metadata": {},
     "output_type": "execute_result"
    }
   ],
   "source": [
    "input_dict_list[0][\"A\"].shape"
   ]
  },
  {
   "cell_type": "code",
   "execution_count": 11,
   "metadata": {},
   "outputs": [
    {
     "name": "stdout",
     "output_type": "stream",
     "text": [
      "dict_keys(['DayAheadBuySellStatus', 'DayAheadOnOffChargingStatus', 'DayAheadChargingPower', 'DayAheadUtilityPowerOutput', 'SOC'])\n"
     ]
    }
   ],
   "source": [
    "print(indices_dict.keys())\n",
    "DayAheadBuySellIndices = indices_dict[\"DayAheadBuySellStatus\"]\n",
    "DayAheadOnOffChargingStatusIndices = indices_dict[\"DayAheadOnOffChargingStatus\"]"
   ]
  },
  {
   "cell_type": "code",
   "execution_count": 26,
   "metadata": {},
   "outputs": [],
   "source": [
    "# variable nodes are the last n_vars nodes\n",
    "# one batch has N nodes, if batch size is 1, then batch of x = [N]\n",
    "# if batch size is 2, then batch of x has shape [N + N]\n",
    "# therefore for batch size of 2, the variable nodes are located in range(n_cons + N, 2 * N)\n",
    "# for batch size of 3, the variable nodes are located in range(n_cons + 2 * N, 3 * N)\n",
    "# and so on\n",
    "variable_nodes = []\n",
    "BATCH_SIZE = 2\n",
    "variable_nodes = [\n",
    "    range(n_cons + i * N, (i + 1) * N) for i in range(BATCH_SIZE)]"
   ]
  },
  {
   "cell_type": "code",
   "execution_count": 49,
   "metadata": {},
   "outputs": [
    {
     "data": {
      "text/plain": [
       "3"
      ]
     },
     "execution_count": 49,
     "metadata": {},
     "output_type": "execute_result"
    }
   ],
   "source": [
    "test = [0, 1, 2, 3]\n",
    "test[-1] - test[0]"
   ]
  },
  {
   "cell_type": "code",
   "execution_count": 75,
   "metadata": {},
   "outputs": [
    {
     "data": {
      "text/plain": [
       "array([1, 2, 3])"
      ]
     },
     "execution_count": 75,
     "metadata": {},
     "output_type": "execute_result"
    }
   ],
   "source": [
    "n_cons_test = 1\n",
    "n_vars_test = 3\n",
    "\n",
    "cons_test = [0, 1, 2]\n",
    "\n",
    "start_index = n_cons_test\n",
    "\n",
    "np.array(range(start_index + cons_test[0], n_cons_test + cons_test[0] + (cons_test[-1] - cons_test[0]) + 1))"
   ]
  },
  {
   "cell_type": "code",
   "execution_count": 81,
   "metadata": {},
   "outputs": [],
   "source": [
    "# variable nodes are located at range(n_cons + i * N, (i + 1) * N) for i in range(BATCH_SIZE)\n",
    "# DayAheadBuySellIndices are located at range(n_cons + i * N + DayAheadBuySellIndices[0], n_cons + i * N + DayAheadBuySellIndices[1]) for i in range(BATCH_SIZE)\n",
    "\n",
    "# test if variable nodes are located at the correct position\n",
    "BATCH_SIZE = 2\n",
    "DayAheadBuySellNodes = [\n",
    "    range(n_cons + i * N + DayAheadBuySellIndices[0], n_cons + i * N + DayAheadBuySellIndices[0] + (DayAheadBuySellIndices[-1] - DayAheadBuySellIndices[0]) + 1) for i in range(BATCH_SIZE)]\n",
    "\n",
    "assert np.array_equal(n_cons + np.array(DayAheadBuySellIndices), np.array(DayAheadBuySellNodes[0]))\n",
    "\n",
    "DayAheadOnOffChargingStatusNodes = [\n",
    "    range(n_cons + i * N + DayAheadOnOffChargingStatusIndices[0], n_cons + i * N + DayAheadOnOffChargingStatusIndices[0] + (DayAheadOnOffChargingStatusIndices[-1] - DayAheadOnOffChargingStatusIndices[0]) + 1) for i in range(BATCH_SIZE)]\n",
    "\n",
    "assert np.array_equal(n_cons + np.array(DayAheadOnOffChargingStatusIndices), np.array(DayAheadOnOffChargingStatusNodes[0]))"
   ]
  },
  {
   "cell_type": "code",
   "execution_count": 100,
   "metadata": {},
   "outputs": [],
   "source": [
    "# make output nodes indices array\n",
    "output_nodes = []\n",
    "for i in range(BATCH_SIZE):\n",
    "    output_nodes.append(\n",
    "        np.concatenate(\n",
    "            (\n",
    "                np.array(DayAheadBuySellNodes[i]),\n",
    "                np.array(DayAheadOnOffChargingStatusNodes[i]),\n",
    "            )\n",
    "        )\n",
    "    )\n",
    "\n",
    "# flatten output_nodes\n",
    "output_nodes = np.array(output_nodes).flatten()"
   ]
  },
  {
   "cell_type": "code",
   "execution_count": 103,
   "metadata": {},
   "outputs": [
    {
     "data": {
      "text/plain": [
       "dict_keys(['DayAheadBuySellStatus', 'DayAheadOnOffChargingStatus', 'DayAheadChargingPower', 'DayAheadUtilityPowerOutput', 'SOC', 'output'])"
      ]
     },
     "execution_count": 103,
     "metadata": {},
     "output_type": "execute_result"
    }
   ],
   "source": [
    "solution_dict_list[0].keys()"
   ]
  },
  {
   "cell_type": "code",
   "execution_count": null,
   "metadata": {},
   "outputs": [],
   "source": [
    "# output keys are DayAheadBuySellStatus and DayAheadOnOffChargingStatus"
   ]
  },
  {
   "cell_type": "code",
   "execution_count": 82,
   "metadata": {},
   "outputs": [],
   "source": [
    "\"\"\"\n",
    "Create a pytorch geometric dataset\n",
    "1. Graph - Pass in edge_index, edge_attr\n",
    "2. Node - Pass in the node features tensor for x\n",
    "3. Create a dataset by subclassing PyTorch Geometric's Dataset class. At a minimum you need to implement:\n",
    "\n",
    "    len - Returns the number of graphs in the dataset\n",
    "    get - Retrieves a graph object by its index\n",
    "\n",
    "4. You can also add additional functionality like transforms, downloading data, etc.\n",
    "\"\"\"\n",
    "\n",
    "class MIPDataset(tg.data.InMemoryDataset):\n",
    "    def __init__(self, root, input_data_dict, transform=None, pre_transform=None):\n",
    "        super(MIPDataset, self).__init__(root, transform, pre_transform)\n",
    "        self.data, self.slices = torch.load(self.processed_paths[0])\n",
    "\n",
    "    @property\n",
    "    def raw_file_names(self):\n",
    "        return []\n",
    "\n",
    "    @property\n",
    "    def processed_file_names(self):\n",
    "        return [\"data.pt\"]\n",
    "\n",
    "    def download(self):\n",
    "        pass\n",
    "\n",
    "    def process(self):\n",
    "        data_list = []\n",
    "        for i in range(n_sample):\n",
    "            \n",
    "            # ensure x is of shape (N, 1)\n",
    "            assert input_data_dict[i][\"x\"].shape[0] == N\n",
    "            assert input_data_dict[i][\"x\"].shape[1] == 1\n",
    "\n",
    "            data = tg.data.Data(\n",
    "                x=input_data_dict[i][\"x\"],\n",
    "                edge_index=input_data_dict[i][\"edge_index\"],\n",
    "                edge_attr=input_data_dict[i][\"edge_attr\"],\n",
    "            )\n",
    "            data_list.append(data)\n",
    "\n",
    "        data, slices = self.collate(data_list)\n",
    "        \n",
    "        torch.save((data, slices), self.processed_paths[0])"
   ]
  },
  {
   "cell_type": "code",
   "execution_count": 83,
   "metadata": {},
   "outputs": [],
   "source": [
    "\"\"\"\n",
    "Implement a GCN model\n",
    "\n",
    "Modification to the GCN model:\n",
    "1. Extend the node embeddings for layer l + 1 by concatenating the node embeddings from layer l. Specifically, we now define the embedding for layer l + 1 to be  ̃ Z(l+1) = (Z(l+1),  ̃ Z(l)), i.e., the concatenation of the matrices row-wise, with  ̃ Z(0) = Z0\n",
    "2. Apply layer norm at the output of each layer\n",
    "3.  modification made to a Multi-Layer Perceptron (MLP) function called fθ. \n",
    "The original function was a linear mapping followed by a fixed nonlinearity in a standard Graph Convolutional Network (GCN) developed by Kipf and Welling in 2016. \n",
    "However, in this paper, the researchers have generalized fθ to be an MLP,\n",
    "\"\"\"\n",
    "\n",
    "class GCN(torch.nn.Module):\n",
    "    def __init__(self, in_channels, out_channels, hidden_channels):\n",
    "        super(GCN, self).__init__()\n",
    "\n",
    "        self.conv1 = tg.nn.GCNConv(\n",
    "            in_channels, hidden_channels, cached=True, normalize=False\n",
    "        )\n",
    "        self.conv2 = tg.nn.GCNConv(\n",
    "            hidden_channels, hidden_channels, cached=True, normalize=False\n",
    "        )\n",
    "        self.conv3 = tg.nn.GCNConv(\n",
    "            hidden_channels, 1, cached=True, normalize=False\n",
    "        )\n",
    "\n",
    "        self.layernorm1 = torch.nn.LayerNorm(hidden_channels)\n",
    "        self.layernorm2 = torch.nn.LayerNorm(hidden_channels)\n",
    "        \n",
    "        self.mlp1 = torch.nn.Sequential(\n",
    "            torch.nn.Linear(hidden_channels, hidden_channels),\n",
    "            torch.nn.ReLU(),\n",
    "            torch.nn.Linear(hidden_channels, hidden_channels),\n",
    "        )\n",
    "\n",
    "        self.mlp2 = torch.nn.Sequential(\n",
    "            torch.nn.Linear(hidden_channels, hidden_channels),\n",
    "            torch.nn.ReLU(),\n",
    "            torch.nn.Linear(hidden_channels, hidden_channels),\n",
    "        )\n",
    "\n",
    "        self.mlp3 = torch.nn.Sequential(\n",
    "            torch.nn.Linear(out_channels, out_channels),\n",
    "            torch.nn.ReLU(),\n",
    "            torch.nn.Linear(out_channels, out_channels),\n",
    "        )\n",
    "\n",
    "\n",
    "    def forward(self, x, edge_index, edge_attr):\n",
    "        \n",
    "        # concatenate the node embeddings from layer l. Specifically, we now define the embedding for layer l + 1 to be  ̃ Z(l+1) = (Z(l+1),  ̃ Z(l)), i.e., the concatenation of the matrices row-wise, with  ̃ Z(0) = Z0 (the first layer )\n",
    "\n",
    "        \n",
    "            # use a prev_x to store the previous layer's node embeddings\n",
    "        x = self.conv1(x, edge_index, edge_attr)\n",
    "        x = self.layernorm1(x)\n",
    "        Z_tilde_0 = self.mlp1(x)\n",
    "\n",
    "        Z_tilde = self.conv2(Z_tilde_0, edge_index, edge_attr)\n",
    "        Z_tilde = self.layernorm2(Z_tilde)\n",
    "        Z_tilde = self.mlp2(Z_tilde)\n",
    "        Z_tilde = torch.cat([Z_tilde, Z_tilde_0], dim=0)\n",
    "\n",
    "        Z_tilde = self.conv3(Z_tilde, edge_index, edge_attr)\n",
    "\n",
    "        # reshape to N\n",
    "        Z_tilde = Z_tilde.reshape(N)\n",
    "\n",
    "        # output nodes are the DayAheadOnOffChargingStatusNodes and DayAheadBuySellNodes\n",
    "        out = Z_tilde[DayAheadOnOffChargingStatusNodes]\n",
    "\n",
    "        out = self.mlp3(Z_tilde)\n",
    "                \n",
    "        out_prob = torch.sigmoid(out)\n",
    "\n",
    "        return out_prob\n"
   ]
  },
  {
   "cell_type": "code",
   "execution_count": 84,
   "metadata": {},
   "outputs": [
    {
     "name": "stderr",
     "output_type": "stream",
     "text": [
      "/opt/homebrew/Caskroom/miniforge/base/envs/me555/lib/python3.9/site-packages/torch_geometric/deprecation.py:12: UserWarning: 'data.DataLoader' is deprecated, use 'loader.DataLoader' instead\n",
      "  warnings.warn(out)\n"
     ]
    }
   ],
   "source": [
    "# create dataloader\n",
    "data_root_dir = \"./Data/input_data/\"\n",
    "dataset = MIPDataset(data_root_dir, input_data_dict)\n",
    "dataloader = tg.data.DataLoader(dataset, batch_size=1, shuffle=True)"
   ]
  },
  {
   "cell_type": "code",
   "execution_count": 85,
   "metadata": {},
   "outputs": [
    {
     "name": "stdout",
     "output_type": "stream",
     "text": [
      "tensor(-0.0007, dtype=torch.float64)\n"
     ]
    }
   ],
   "source": [
    "for data in dataloader:\n",
    "    print(data.x[1697159])\n",
    "    break"
   ]
  },
  {
   "cell_type": "code",
   "execution_count": 95,
   "metadata": {},
   "outputs": [
    {
     "data": {
      "text/plain": [
       "288960"
      ]
     },
     "execution_count": 95,
     "metadata": {},
     "output_type": "execute_result"
    }
   ],
   "source": [
    "# get total number of output nodes. total number of output nodes is the number of nodes in DayAheadOnOffChargingStatusNodes and DayAheadBuySellNodes \n",
    "out_channels = len(DayAheadOnOffChargingStatusNodes[0]) * len(DayAheadOnOffChargingStatusNodes) + len(DayAheadBuySellNodes[0]) * len(DayAheadBuySellNodes)\n"
   ]
  },
  {
   "cell_type": "code",
   "execution_count": 69,
   "metadata": {},
   "outputs": [],
   "source": [
    "# create model\n",
    "model = GCN(in_channels=1, out_channels=out_channels, hidden_channels=32)\n",
    "\n",
    "# create optimizer\n",
    "optimizer = torch.optim.Adam(model.parameters(), lr=0.01)"
   ]
  },
  {
   "cell_type": "code",
   "execution_count": null,
   "metadata": {},
   "outputs": [
    {
     "name": "stdout",
     "output_type": "stream",
     "text": [
      "GCN(\n",
      "  (conv1): GCNConv(1, 32)\n",
      "  (conv2): GCNConv(32, 32)\n",
      "  (conv3): GCNConv(32, 32)\n",
      "  (layernorm1): LayerNorm((32,), eps=1e-05, elementwise_affine=True)\n",
      "  (layernorm2): LayerNorm((32,), eps=1e-05, elementwise_affine=True)\n",
      "  (mlp1): Sequential(\n",
      "    (0): Linear(in_features=32, out_features=32, bias=True)\n",
      "    (1): ReLU()\n",
      "    (2): Linear(in_features=32, out_features=32, bias=True)\n",
      "  )\n",
      "  (mlp2): Sequential(\n",
      "    (0): Linear(in_features=32, out_features=32, bias=True)\n",
      "    (1): ReLU()\n",
      "    (2): Linear(in_features=32, out_features=32, bias=True)\n",
      "  )\n",
      "  (mlp3): Sequential(\n",
      "    (0): Linear(in_features=32, out_features=32, bias=True)\n",
      "    (1): ReLU()\n",
      "    (2): Linear(in_features=32, out_features=1, bias=True)\n",
      "  )\n",
      ")\n"
     ]
    }
   ],
   "source": [
    "print(model)"
   ]
  },
  {
   "cell_type": "code",
   "execution_count": null,
   "metadata": {},
   "outputs": [
    {
     "name": "stdout",
     "output_type": "stream",
     "text": [
      "Shape of x:  torch.Size([1697160, 1])\n",
      "Shape of edge_index:  torch.Size([2, 2392970])\n",
      "Shape of edge_attr:  torch.Size([2392970, 1])\n",
      "Shape of x:  torch.Size([1697160, 1])\n",
      "Shape of edge_index:  torch.Size([2, 2392970])\n",
      "Shape of edge_attr:  torch.Size([2392970, 1])\n",
      "Shape of x:  torch.Size([1697160, 1])\n",
      "Shape of edge_index:  torch.Size([2, 2392970])\n",
      "Shape of edge_attr:  torch.Size([2392970, 1])\n",
      "Shape of x:  torch.Size([1697160, 1])\n",
      "Shape of edge_index:  torch.Size([2, 2392970])\n",
      "Shape of edge_attr:  torch.Size([2392970, 1])\n",
      "Shape of x:  torch.Size([1697160, 1])\n",
      "Shape of edge_index:  torch.Size([2, 2392970])\n",
      "Shape of edge_attr:  torch.Size([2392970, 1])\n",
      "Shape of x:  torch.Size([1697160, 1])\n",
      "Shape of edge_index:  torch.Size([2, 2392970])\n",
      "Shape of edge_attr:  torch.Size([2392970, 1])\n",
      "Shape of x:  torch.Size([1697160, 1])\n",
      "Shape of edge_index:  torch.Size([2, 2392970])\n",
      "Shape of edge_attr:  torch.Size([2392970, 1])\n",
      "Shape of x:  torch.Size([1697160, 1])\n",
      "Shape of edge_index:  torch.Size([2, 2392970])\n",
      "Shape of edge_attr:  torch.Size([2392970, 1])\n",
      "Shape of x:  torch.Size([1697160, 1])\n",
      "Shape of edge_index:  torch.Size([2, 2392970])\n",
      "Shape of edge_attr:  torch.Size([2392970, 1])\n",
      "Shape of x:  torch.Size([1697160, 1])\n",
      "Shape of edge_index:  torch.Size([2, 2392970])\n",
      "Shape of edge_attr:  torch.Size([2392970, 1])\n",
      "Shape of x:  torch.Size([1697160, 1])\n",
      "Shape of edge_index:  torch.Size([2, 2392970])\n",
      "Shape of edge_attr:  torch.Size([2392970, 1])\n",
      "Shape of x:  torch.Size([1697160, 1])\n",
      "Shape of edge_index:  torch.Size([2, 2392970])\n",
      "Shape of edge_attr:  torch.Size([2392970, 1])\n",
      "Shape of x:  torch.Size([1697160, 1])\n",
      "Shape of edge_index:  torch.Size([2, 2392970])\n",
      "Shape of edge_attr:  torch.Size([2392970, 1])\n",
      "Shape of x:  torch.Size([1697160, 1])\n",
      "Shape of edge_index:  torch.Size([2, 2392970])\n",
      "Shape of edge_attr:  torch.Size([2392970, 1])\n",
      "Shape of x:  torch.Size([1697160, 1])\n",
      "Shape of edge_index:  torch.Size([2, 2392970])\n",
      "Shape of edge_attr:  torch.Size([2392970, 1])\n",
      "Shape of x:  torch.Size([1697160, 1])\n",
      "Shape of edge_index:  torch.Size([2, 2392970])\n",
      "Shape of edge_attr:  torch.Size([2392970, 1])\n",
      "Shape of x:  torch.Size([1697160, 1])\n",
      "Shape of edge_index:  torch.Size([2, 2392970])\n",
      "Shape of edge_attr:  torch.Size([2392970, 1])\n",
      "Shape of x:  torch.Size([1697160, 1])\n",
      "Shape of edge_index:  torch.Size([2, 2392970])\n",
      "Shape of edge_attr:  torch.Size([2392970, 1])\n",
      "Shape of x:  torch.Size([1697160, 1])\n",
      "Shape of edge_index:  torch.Size([2, 2392970])\n",
      "Shape of edge_attr:  torch.Size([2392970, 1])\n",
      "Shape of x:  torch.Size([1697160, 1])\n",
      "Shape of edge_index:  torch.Size([2, 2392970])\n",
      "Shape of edge_attr:  torch.Size([2392970, 1])\n",
      "Shape of x:  torch.Size([1697160, 1])\n",
      "Shape of edge_index:  torch.Size([2, 2392970])\n",
      "Shape of edge_attr:  torch.Size([2392970, 1])\n",
      "Shape of x:  torch.Size([1697160, 1])\n",
      "Shape of edge_index:  torch.Size([2, 2392970])\n",
      "Shape of edge_attr:  torch.Size([2392970, 1])\n",
      "Shape of x:  torch.Size([1697160, 1])\n",
      "Shape of edge_index:  torch.Size([2, 2392970])\n",
      "Shape of edge_attr:  torch.Size([2392970, 1])\n",
      "Shape of x:  torch.Size([1697160, 1])\n",
      "Shape of edge_index:  torch.Size([2, 2392970])\n",
      "Shape of edge_attr:  torch.Size([2392970, 1])\n",
      "Shape of x:  torch.Size([1697160, 1])\n",
      "Shape of edge_index:  torch.Size([2, 2392970])\n",
      "Shape of edge_attr:  torch.Size([2392970, 1])\n",
      "Shape of x:  torch.Size([1697160, 1])\n",
      "Shape of edge_index:  torch.Size([2, 2392970])\n",
      "Shape of edge_attr:  torch.Size([2392970, 1])\n",
      "Shape of x:  torch.Size([1697160, 1])\n",
      "Shape of edge_index:  torch.Size([2, 2392970])\n",
      "Shape of edge_attr:  torch.Size([2392970, 1])\n"
     ]
    },
    {
     "ename": "KeyboardInterrupt",
     "evalue": "",
     "output_type": "error",
     "traceback": [
      "\u001b[0;31m---------------------------------------------------------------------------\u001b[0m",
      "\u001b[0;31mKeyboardInterrupt\u001b[0m                         Traceback (most recent call last)",
      "\u001b[0;32m/var/folders/4f/ll38rx255klcxftt254q2vwh0000gn/T/ipykernel_87235/124004267.py\u001b[0m in \u001b[0;36m<module>\u001b[0;34m\u001b[0m\n\u001b[1;32m     26\u001b[0m     \u001b[0mprint\u001b[0m\u001b[0;34m(\u001b[0m\u001b[0;34m\"Shape of edge_index: \"\u001b[0m\u001b[0;34m,\u001b[0m \u001b[0mdata\u001b[0m\u001b[0;34m.\u001b[0m\u001b[0medge_index\u001b[0m\u001b[0;34m.\u001b[0m\u001b[0mshape\u001b[0m\u001b[0;34m)\u001b[0m\u001b[0;34m\u001b[0m\u001b[0;34m\u001b[0m\u001b[0m\n\u001b[1;32m     27\u001b[0m     \u001b[0mprint\u001b[0m\u001b[0;34m(\u001b[0m\u001b[0;34m\"Shape of edge_attr: \"\u001b[0m\u001b[0;34m,\u001b[0m \u001b[0mdata\u001b[0m\u001b[0;34m.\u001b[0m\u001b[0medge_attr\u001b[0m\u001b[0;34m.\u001b[0m\u001b[0mshape\u001b[0m\u001b[0;34m)\u001b[0m\u001b[0;34m\u001b[0m\u001b[0;34m\u001b[0m\u001b[0m\n\u001b[0;32m---> 28\u001b[0;31m     \u001b[0mout\u001b[0m \u001b[0;34m=\u001b[0m \u001b[0mmodel\u001b[0m\u001b[0;34m(\u001b[0m\u001b[0mdata\u001b[0m\u001b[0;34m.\u001b[0m\u001b[0mx\u001b[0m\u001b[0;34m,\u001b[0m \u001b[0mdata\u001b[0m\u001b[0;34m.\u001b[0m\u001b[0medge_index\u001b[0m\u001b[0;34m,\u001b[0m \u001b[0mdata\u001b[0m\u001b[0;34m.\u001b[0m\u001b[0medge_attr\u001b[0m\u001b[0;34m)\u001b[0m\u001b[0;34m\u001b[0m\u001b[0;34m\u001b[0m\u001b[0m\n\u001b[0m",
      "\u001b[0;32m/opt/homebrew/Caskroom/miniforge/base/envs/me555/lib/python3.9/site-packages/torch/nn/modules/module.py\u001b[0m in \u001b[0;36m_call_impl\u001b[0;34m(self, *input, **kwargs)\u001b[0m\n\u001b[1;32m   1192\u001b[0m         if not (self._backward_hooks or self._forward_hooks or self._forward_pre_hooks or _global_backward_hooks\n\u001b[1;32m   1193\u001b[0m                 or _global_forward_hooks or _global_forward_pre_hooks):\n\u001b[0;32m-> 1194\u001b[0;31m             \u001b[0;32mreturn\u001b[0m \u001b[0mforward_call\u001b[0m\u001b[0;34m(\u001b[0m\u001b[0;34m*\u001b[0m\u001b[0minput\u001b[0m\u001b[0;34m,\u001b[0m \u001b[0;34m**\u001b[0m\u001b[0mkwargs\u001b[0m\u001b[0;34m)\u001b[0m\u001b[0;34m\u001b[0m\u001b[0;34m\u001b[0m\u001b[0m\n\u001b[0m\u001b[1;32m   1195\u001b[0m         \u001b[0;31m# Do not call functions when jit is used\u001b[0m\u001b[0;34m\u001b[0m\u001b[0;34m\u001b[0m\u001b[0m\n\u001b[1;32m   1196\u001b[0m         \u001b[0mfull_backward_hooks\u001b[0m\u001b[0;34m,\u001b[0m \u001b[0mnon_full_backward_hooks\u001b[0m \u001b[0;34m=\u001b[0m \u001b[0;34m[\u001b[0m\u001b[0;34m]\u001b[0m\u001b[0;34m,\u001b[0m \u001b[0;34m[\u001b[0m\u001b[0;34m]\u001b[0m\u001b[0;34m\u001b[0m\u001b[0;34m\u001b[0m\u001b[0m\n",
      "\u001b[0;32m/var/folders/4f/ll38rx255klcxftt254q2vwh0000gn/T/ipykernel_87235/1535982261.py\u001b[0m in \u001b[0;36mforward\u001b[0;34m(self, x, edge_index, edge_attr)\u001b[0m\n\u001b[1;32m     52\u001b[0m \u001b[0;34m\u001b[0m\u001b[0m\n\u001b[1;32m     53\u001b[0m             \u001b[0;31m# use a prev_x to store the previous layer's node embeddings\u001b[0m\u001b[0;34m\u001b[0m\u001b[0;34m\u001b[0m\u001b[0m\n\u001b[0;32m---> 54\u001b[0;31m         \u001b[0mx\u001b[0m \u001b[0;34m=\u001b[0m \u001b[0mself\u001b[0m\u001b[0;34m.\u001b[0m\u001b[0mconv1\u001b[0m\u001b[0;34m(\u001b[0m\u001b[0mx\u001b[0m\u001b[0;34m,\u001b[0m \u001b[0medge_index\u001b[0m\u001b[0;34m,\u001b[0m \u001b[0medge_attr\u001b[0m\u001b[0;34m)\u001b[0m\u001b[0;34m\u001b[0m\u001b[0;34m\u001b[0m\u001b[0m\n\u001b[0m\u001b[1;32m     55\u001b[0m         \u001b[0mx\u001b[0m \u001b[0;34m=\u001b[0m \u001b[0mself\u001b[0m\u001b[0;34m.\u001b[0m\u001b[0mlayernorm1\u001b[0m\u001b[0;34m(\u001b[0m\u001b[0mx\u001b[0m\u001b[0;34m)\u001b[0m\u001b[0;34m\u001b[0m\u001b[0;34m\u001b[0m\u001b[0m\n\u001b[1;32m     56\u001b[0m         \u001b[0mZ_tilde_0\u001b[0m \u001b[0;34m=\u001b[0m \u001b[0mself\u001b[0m\u001b[0;34m.\u001b[0m\u001b[0mmlp1\u001b[0m\u001b[0;34m(\u001b[0m\u001b[0mx\u001b[0m\u001b[0;34m)\u001b[0m\u001b[0;34m\u001b[0m\u001b[0;34m\u001b[0m\u001b[0m\n",
      "\u001b[0;32m/opt/homebrew/Caskroom/miniforge/base/envs/me555/lib/python3.9/site-packages/torch/nn/modules/module.py\u001b[0m in \u001b[0;36m_call_impl\u001b[0;34m(self, *input, **kwargs)\u001b[0m\n\u001b[1;32m   1192\u001b[0m         if not (self._backward_hooks or self._forward_hooks or self._forward_pre_hooks or _global_backward_hooks\n\u001b[1;32m   1193\u001b[0m                 or _global_forward_hooks or _global_forward_pre_hooks):\n\u001b[0;32m-> 1194\u001b[0;31m             \u001b[0;32mreturn\u001b[0m \u001b[0mforward_call\u001b[0m\u001b[0;34m(\u001b[0m\u001b[0;34m*\u001b[0m\u001b[0minput\u001b[0m\u001b[0;34m,\u001b[0m \u001b[0;34m**\u001b[0m\u001b[0mkwargs\u001b[0m\u001b[0;34m)\u001b[0m\u001b[0;34m\u001b[0m\u001b[0;34m\u001b[0m\u001b[0m\n\u001b[0m\u001b[1;32m   1195\u001b[0m         \u001b[0;31m# Do not call functions when jit is used\u001b[0m\u001b[0;34m\u001b[0m\u001b[0;34m\u001b[0m\u001b[0m\n\u001b[1;32m   1196\u001b[0m         \u001b[0mfull_backward_hooks\u001b[0m\u001b[0;34m,\u001b[0m \u001b[0mnon_full_backward_hooks\u001b[0m \u001b[0;34m=\u001b[0m \u001b[0;34m[\u001b[0m\u001b[0;34m]\u001b[0m\u001b[0;34m,\u001b[0m \u001b[0;34m[\u001b[0m\u001b[0;34m]\u001b[0m\u001b[0;34m\u001b[0m\u001b[0;34m\u001b[0m\u001b[0m\n",
      "\u001b[0;32m/opt/homebrew/Caskroom/miniforge/base/envs/me555/lib/python3.9/site-packages/torch_geometric/nn/conv/gcn_conv.py\u001b[0m in \u001b[0;36mforward\u001b[0;34m(self, x, edge_index, edge_weight)\u001b[0m\n\u001b[1;32m    196\u001b[0m \u001b[0;34m\u001b[0m\u001b[0m\n\u001b[1;32m    197\u001b[0m         \u001b[0;31m# propagate_type: (x: Tensor, edge_weight: OptTensor)\u001b[0m\u001b[0;34m\u001b[0m\u001b[0;34m\u001b[0m\u001b[0m\n\u001b[0;32m--> 198\u001b[0;31m         out = self.propagate(edge_index, x=x, edge_weight=edge_weight,\n\u001b[0m\u001b[1;32m    199\u001b[0m                              size=None)\n\u001b[1;32m    200\u001b[0m \u001b[0;34m\u001b[0m\u001b[0m\n",
      "\u001b[0;32m/opt/homebrew/Caskroom/miniforge/base/envs/me555/lib/python3.9/site-packages/torch_geometric/nn/conv/message_passing.py\u001b[0m in \u001b[0;36mpropagate\u001b[0;34m(self, edge_index, size, **kwargs)\u001b[0m\n\u001b[1;32m    452\u001b[0m                         \u001b[0maggr_kwargs\u001b[0m \u001b[0;34m=\u001b[0m \u001b[0mres\u001b[0m\u001b[0;34m[\u001b[0m\u001b[0;36m0\u001b[0m\u001b[0;34m]\u001b[0m \u001b[0;32mif\u001b[0m \u001b[0misinstance\u001b[0m\u001b[0;34m(\u001b[0m\u001b[0mres\u001b[0m\u001b[0;34m,\u001b[0m \u001b[0mtuple\u001b[0m\u001b[0;34m)\u001b[0m \u001b[0;32melse\u001b[0m \u001b[0mres\u001b[0m\u001b[0;34m\u001b[0m\u001b[0;34m\u001b[0m\u001b[0m\n\u001b[1;32m    453\u001b[0m \u001b[0;34m\u001b[0m\u001b[0m\n\u001b[0;32m--> 454\u001b[0;31m                 \u001b[0mout\u001b[0m \u001b[0;34m=\u001b[0m \u001b[0mself\u001b[0m\u001b[0;34m.\u001b[0m\u001b[0maggregate\u001b[0m\u001b[0;34m(\u001b[0m\u001b[0mout\u001b[0m\u001b[0;34m,\u001b[0m \u001b[0;34m**\u001b[0m\u001b[0maggr_kwargs\u001b[0m\u001b[0;34m)\u001b[0m\u001b[0;34m\u001b[0m\u001b[0;34m\u001b[0m\u001b[0m\n\u001b[0m\u001b[1;32m    455\u001b[0m \u001b[0;34m\u001b[0m\u001b[0m\n\u001b[1;32m    456\u001b[0m                 \u001b[0;32mfor\u001b[0m \u001b[0mhook\u001b[0m \u001b[0;32min\u001b[0m \u001b[0mself\u001b[0m\u001b[0;34m.\u001b[0m\u001b[0m_aggregate_forward_hooks\u001b[0m\u001b[0;34m.\u001b[0m\u001b[0mvalues\u001b[0m\u001b[0;34m(\u001b[0m\u001b[0;34m)\u001b[0m\u001b[0;34m:\u001b[0m\u001b[0;34m\u001b[0m\u001b[0;34m\u001b[0m\u001b[0m\n",
      "\u001b[0;32m/opt/homebrew/Caskroom/miniforge/base/envs/me555/lib/python3.9/site-packages/torch_geometric/nn/conv/message_passing.py\u001b[0m in \u001b[0;36maggregate\u001b[0;34m(self, inputs, index, ptr, dim_size)\u001b[0m\n\u001b[1;32m    576\u001b[0m         \u001b[0;32mas\u001b[0m \u001b[0mspecified\u001b[0m \u001b[0;32min\u001b[0m \u001b[0;34m:\u001b[0m\u001b[0mmeth\u001b[0m\u001b[0;34m:\u001b[0m\u001b[0;31m`\u001b[0m\u001b[0m__init__\u001b[0m\u001b[0;31m`\u001b[0m \u001b[0mby\u001b[0m \u001b[0mthe\u001b[0m \u001b[0;34m:\u001b[0m\u001b[0mobj\u001b[0m\u001b[0;34m:\u001b[0m\u001b[0;31m`\u001b[0m\u001b[0maggr\u001b[0m\u001b[0;31m`\u001b[0m \u001b[0margument\u001b[0m\u001b[0;34m.\u001b[0m\u001b[0;34m\u001b[0m\u001b[0;34m\u001b[0m\u001b[0m\n\u001b[1;32m    577\u001b[0m         \"\"\"\n\u001b[0;32m--> 578\u001b[0;31m         return self.aggr_module(inputs, index, ptr=ptr, dim_size=dim_size,\n\u001b[0m\u001b[1;32m    579\u001b[0m                                 dim=self.node_dim)\n\u001b[1;32m    580\u001b[0m \u001b[0;34m\u001b[0m\u001b[0m\n",
      "\u001b[0;32m/opt/homebrew/Caskroom/miniforge/base/envs/me555/lib/python3.9/site-packages/torch_geometric/nn/aggr/base.py\u001b[0m in \u001b[0;36m__call__\u001b[0;34m(self, x, index, ptr, dim_size, dim, **kwargs)\u001b[0m\n\u001b[1;32m    129\u001b[0m                                      f\">= '{int(index.max()) + 1}')\")\n\u001b[1;32m    130\u001b[0m \u001b[0;34m\u001b[0m\u001b[0m\n\u001b[0;32m--> 131\u001b[0;31m         \u001b[0;32mreturn\u001b[0m \u001b[0msuper\u001b[0m\u001b[0;34m(\u001b[0m\u001b[0;34m)\u001b[0m\u001b[0;34m.\u001b[0m\u001b[0m__call__\u001b[0m\u001b[0;34m(\u001b[0m\u001b[0mx\u001b[0m\u001b[0;34m,\u001b[0m \u001b[0mindex\u001b[0m\u001b[0;34m,\u001b[0m \u001b[0mptr\u001b[0m\u001b[0;34m,\u001b[0m \u001b[0mdim_size\u001b[0m\u001b[0;34m,\u001b[0m \u001b[0mdim\u001b[0m\u001b[0;34m,\u001b[0m \u001b[0;34m**\u001b[0m\u001b[0mkwargs\u001b[0m\u001b[0;34m)\u001b[0m\u001b[0;34m\u001b[0m\u001b[0;34m\u001b[0m\u001b[0m\n\u001b[0m\u001b[1;32m    132\u001b[0m \u001b[0;34m\u001b[0m\u001b[0m\n\u001b[1;32m    133\u001b[0m     \u001b[0;32mdef\u001b[0m \u001b[0m__repr__\u001b[0m\u001b[0;34m(\u001b[0m\u001b[0mself\u001b[0m\u001b[0;34m)\u001b[0m \u001b[0;34m->\u001b[0m \u001b[0mstr\u001b[0m\u001b[0;34m:\u001b[0m\u001b[0;34m\u001b[0m\u001b[0;34m\u001b[0m\u001b[0m\n",
      "\u001b[0;32m/opt/homebrew/Caskroom/miniforge/base/envs/me555/lib/python3.9/site-packages/torch/nn/modules/module.py\u001b[0m in \u001b[0;36m_call_impl\u001b[0;34m(self, *input, **kwargs)\u001b[0m\n\u001b[1;32m   1192\u001b[0m         if not (self._backward_hooks or self._forward_hooks or self._forward_pre_hooks or _global_backward_hooks\n\u001b[1;32m   1193\u001b[0m                 or _global_forward_hooks or _global_forward_pre_hooks):\n\u001b[0;32m-> 1194\u001b[0;31m             \u001b[0;32mreturn\u001b[0m \u001b[0mforward_call\u001b[0m\u001b[0;34m(\u001b[0m\u001b[0;34m*\u001b[0m\u001b[0minput\u001b[0m\u001b[0;34m,\u001b[0m \u001b[0;34m**\u001b[0m\u001b[0mkwargs\u001b[0m\u001b[0;34m)\u001b[0m\u001b[0;34m\u001b[0m\u001b[0;34m\u001b[0m\u001b[0m\n\u001b[0m\u001b[1;32m   1195\u001b[0m         \u001b[0;31m# Do not call functions when jit is used\u001b[0m\u001b[0;34m\u001b[0m\u001b[0;34m\u001b[0m\u001b[0m\n\u001b[1;32m   1196\u001b[0m         \u001b[0mfull_backward_hooks\u001b[0m\u001b[0;34m,\u001b[0m \u001b[0mnon_full_backward_hooks\u001b[0m \u001b[0;34m=\u001b[0m \u001b[0;34m[\u001b[0m\u001b[0;34m]\u001b[0m\u001b[0;34m,\u001b[0m \u001b[0;34m[\u001b[0m\u001b[0;34m]\u001b[0m\u001b[0;34m\u001b[0m\u001b[0;34m\u001b[0m\u001b[0m\n",
      "\u001b[0;32m/opt/homebrew/Caskroom/miniforge/base/envs/me555/lib/python3.9/site-packages/torch_geometric/nn/aggr/basic.py\u001b[0m in \u001b[0;36mforward\u001b[0;34m(self, x, index, ptr, dim_size, dim)\u001b[0m\n\u001b[1;32m     19\u001b[0m                 \u001b[0mptr\u001b[0m\u001b[0;34m:\u001b[0m \u001b[0mOptional\u001b[0m\u001b[0;34m[\u001b[0m\u001b[0mTensor\u001b[0m\u001b[0;34m]\u001b[0m \u001b[0;34m=\u001b[0m \u001b[0;32mNone\u001b[0m\u001b[0;34m,\u001b[0m \u001b[0mdim_size\u001b[0m\u001b[0;34m:\u001b[0m \u001b[0mOptional\u001b[0m\u001b[0;34m[\u001b[0m\u001b[0mint\u001b[0m\u001b[0;34m]\u001b[0m \u001b[0;34m=\u001b[0m \u001b[0;32mNone\u001b[0m\u001b[0;34m,\u001b[0m\u001b[0;34m\u001b[0m\u001b[0;34m\u001b[0m\u001b[0m\n\u001b[1;32m     20\u001b[0m                 dim: int = -2) -> Tensor:\n\u001b[0;32m---> 21\u001b[0;31m         \u001b[0;32mreturn\u001b[0m \u001b[0mself\u001b[0m\u001b[0;34m.\u001b[0m\u001b[0mreduce\u001b[0m\u001b[0;34m(\u001b[0m\u001b[0mx\u001b[0m\u001b[0;34m,\u001b[0m \u001b[0mindex\u001b[0m\u001b[0;34m,\u001b[0m \u001b[0mptr\u001b[0m\u001b[0;34m,\u001b[0m \u001b[0mdim_size\u001b[0m\u001b[0;34m,\u001b[0m \u001b[0mdim\u001b[0m\u001b[0;34m,\u001b[0m \u001b[0mreduce\u001b[0m\u001b[0;34m=\u001b[0m\u001b[0;34m'sum'\u001b[0m\u001b[0;34m)\u001b[0m\u001b[0;34m\u001b[0m\u001b[0;34m\u001b[0m\u001b[0m\n\u001b[0m\u001b[1;32m     22\u001b[0m \u001b[0;34m\u001b[0m\u001b[0m\n\u001b[1;32m     23\u001b[0m \u001b[0;34m\u001b[0m\u001b[0m\n",
      "\u001b[0;32m/opt/homebrew/Caskroom/miniforge/base/envs/me555/lib/python3.9/site-packages/torch_geometric/nn/aggr/base.py\u001b[0m in \u001b[0;36mreduce\u001b[0;34m(self, x, index, ptr, dim_size, dim, reduce)\u001b[0m\n\u001b[1;32m    168\u001b[0m \u001b[0;34m\u001b[0m\u001b[0m\n\u001b[1;32m    169\u001b[0m         \u001b[0;32massert\u001b[0m \u001b[0mindex\u001b[0m \u001b[0;32mis\u001b[0m \u001b[0;32mnot\u001b[0m \u001b[0;32mNone\u001b[0m\u001b[0;34m\u001b[0m\u001b[0;34m\u001b[0m\u001b[0m\n\u001b[0;32m--> 170\u001b[0;31m         \u001b[0;32mreturn\u001b[0m \u001b[0mscatter\u001b[0m\u001b[0;34m(\u001b[0m\u001b[0mx\u001b[0m\u001b[0;34m,\u001b[0m \u001b[0mindex\u001b[0m\u001b[0;34m,\u001b[0m \u001b[0mdim\u001b[0m\u001b[0;34m,\u001b[0m \u001b[0mdim_size\u001b[0m\u001b[0;34m,\u001b[0m \u001b[0mreduce\u001b[0m\u001b[0;34m)\u001b[0m\u001b[0;34m\u001b[0m\u001b[0;34m\u001b[0m\u001b[0m\n\u001b[0m\u001b[1;32m    171\u001b[0m \u001b[0;34m\u001b[0m\u001b[0m\n\u001b[1;32m    172\u001b[0m     def to_dense_batch(self, x: Tensor, index: Optional[Tensor] = None,\n",
      "\u001b[0;32m/opt/homebrew/Caskroom/miniforge/base/envs/me555/lib/python3.9/site-packages/torch_geometric/utils/scatter.py\u001b[0m in \u001b[0;36mscatter\u001b[0;34m(src, index, dim, dim_size, reduce)\u001b[0m\n\u001b[1;32m     52\u001b[0m         \u001b[0;32mif\u001b[0m \u001b[0mreduce\u001b[0m \u001b[0;34m==\u001b[0m \u001b[0;34m'sum'\u001b[0m \u001b[0;32mor\u001b[0m \u001b[0mreduce\u001b[0m \u001b[0;34m==\u001b[0m \u001b[0;34m'add'\u001b[0m\u001b[0;34m:\u001b[0m\u001b[0;34m\u001b[0m\u001b[0;34m\u001b[0m\u001b[0m\n\u001b[1;32m     53\u001b[0m             \u001b[0mindex\u001b[0m \u001b[0;34m=\u001b[0m \u001b[0mbroadcast\u001b[0m\u001b[0;34m(\u001b[0m\u001b[0mindex\u001b[0m\u001b[0;34m,\u001b[0m \u001b[0msrc\u001b[0m\u001b[0;34m,\u001b[0m \u001b[0mdim\u001b[0m\u001b[0;34m)\u001b[0m\u001b[0;34m\u001b[0m\u001b[0;34m\u001b[0m\u001b[0m\n\u001b[0;32m---> 54\u001b[0;31m             \u001b[0;32mreturn\u001b[0m \u001b[0msrc\u001b[0m\u001b[0;34m.\u001b[0m\u001b[0mnew_zeros\u001b[0m\u001b[0;34m(\u001b[0m\u001b[0msize\u001b[0m\u001b[0;34m)\u001b[0m\u001b[0;34m.\u001b[0m\u001b[0mscatter_add_\u001b[0m\u001b[0;34m(\u001b[0m\u001b[0mdim\u001b[0m\u001b[0;34m,\u001b[0m \u001b[0mindex\u001b[0m\u001b[0;34m,\u001b[0m \u001b[0msrc\u001b[0m\u001b[0;34m)\u001b[0m\u001b[0;34m\u001b[0m\u001b[0;34m\u001b[0m\u001b[0m\n\u001b[0m\u001b[1;32m     55\u001b[0m \u001b[0;34m\u001b[0m\u001b[0m\n\u001b[1;32m     56\u001b[0m         \u001b[0;32mif\u001b[0m \u001b[0mreduce\u001b[0m \u001b[0;34m==\u001b[0m \u001b[0;34m'mean'\u001b[0m\u001b[0;34m:\u001b[0m\u001b[0;34m\u001b[0m\u001b[0;34m\u001b[0m\u001b[0m\n",
      "\u001b[0;31mKeyboardInterrupt\u001b[0m: "
     ]
    }
   ],
   "source": [
    "# test model\n",
    "for data in dataloader:\n",
    "\n",
    "    # ensure x is of shape (N, 1), if not, reshape, use try except\n",
    "    # ensure edge_index is of shape (2, E), if not, reshape, use try except\n",
    "    # ensure edge_attr is of shape (E, 1), if not, reshape, use try except\n",
    "\n",
    "    try:\n",
    "        assert data.x.shape[1] == 1\n",
    "\n",
    "        assert data.edge_index.shape[0] == 2\n",
    "\n",
    "        assert data.edge_attr.shape[1] == 1\n",
    "\n",
    "    except:\n",
    "        data.x = data.x.reshape(-1, 1)\n",
    "        data.edge_index = data.edge_index.reshape(2, -1)\n",
    "        data.edge_attr = data.edge_attr.reshape(-1, 1)\n",
    "\n",
    "    # convert to float\n",
    "    data.x = data.x.float()\n",
    "    data.edge_index = data.edge_index.long()\n",
    "    data.edge_attr = data.edge_attr.float()\n",
    "\n",
    "    print(\"Shape of x: \", data.x.shape)\n",
    "    print(\"Shape of edge_index: \", data.edge_index.shape)\n",
    "    print(\"Shape of edge_attr: \", data.edge_attr.shape)\n",
    "    out = model(data.x, data.edge_index, data.edge_attr)"
   ]
  },
  {
   "cell_type": "code",
   "execution_count": 217,
   "metadata": {},
   "outputs": [
    {
     "data": {
      "text/plain": [
       "torch.Size([3394320, 1])"
      ]
     },
     "execution_count": 217,
     "metadata": {},
     "output_type": "execute_result"
    }
   ],
   "source": [
    "out.shape"
   ]
  }
 ],
 "metadata": {
  "kernelspec": {
   "display_name": "me555",
   "language": "python",
   "name": "python3"
  },
  "language_info": {
   "codemirror_mode": {
    "name": "ipython",
    "version": 3
   },
   "file_extension": ".py",
   "mimetype": "text/x-python",
   "name": "python",
   "nbconvert_exporter": "python",
   "pygments_lexer": "ipython3",
   "version": "3.9.10"
  },
  "orig_nbformat": 4,
  "vscode": {
   "interpreter": {
    "hash": "4bfffb94d4f394d40f3219e4c71363d8e81f8d192d707bcd4bb6fae6b6748fb0"
   }
  }
 },
 "nbformat": 4,
 "nbformat_minor": 2
}
