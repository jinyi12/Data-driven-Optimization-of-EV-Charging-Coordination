{
 "cells": [
  {
   "cell_type": "code",
   "execution_count": 1,
   "metadata": {},
   "outputs": [
    {
     "name": "stderr",
     "output_type": "stream",
     "text": [
      "/opt/homebrew/Caskroom/miniforge/base/envs/me555/lib/python3.9/site-packages/tqdm/auto.py:22: TqdmWarning: IProgress not found. Please update jupyter and ipywidgets. See https://ipywidgets.readthedocs.io/en/stable/user_install.html\n",
      "  from .autonotebook import tqdm as notebook_tqdm\n"
     ]
    }
   ],
   "source": [
    "import torch\n",
    "import torch_geometric as tg\n",
    "import pandas as pd\n",
    "import numpy as np\n",
    "import matplotlib.pyplot as plt\n",
    "import networkx as nx\n",
    "import pickle as pkl\n",
    "import scipy\n",
    "\n",
    "device = torch.device(\"cpu\")"
   ]
  },
  {
   "cell_type": "code",
   "execution_count": 2,
   "metadata": {},
   "outputs": [],
   "source": [
    "data_path = \"./Data/output/\"\n",
    "n_sample = 30\n",
    "\n",
    "input_name = \"input_dict_\"\n",
    "solution_name = \"solution_dict_\"\n",
    "\n",
    "input_dict_list = []\n",
    "solution_dict_list = []\n",
    "\n",
    "# read input and solution dict pkl file from 1 to n_sample\n",
    "for i in range(1, n_sample + 1):\n",
    "    with open(data_path + input_name + str(i) + \".pkl\", \"rb\") as f:\n",
    "        input_dict_list.append(pkl.load(f))\n",
    "\n",
    "    with open(data_path + solution_name + str(i) + \".pkl\", \"rb\") as f:\n",
    "        solution_dict_list.append(pkl.load(f))"
   ]
  },
  {
   "cell_type": "code",
   "execution_count": 3,
   "metadata": {},
   "outputs": [
    {
     "data": {
      "text/plain": [
       "<1119720x577440 sparse matrix of type '<class 'numpy.float64'>'\n",
       "\twith 2392970 stored elements in Compressed Sparse Row format>"
      ]
     },
     "execution_count": 3,
     "metadata": {},
     "output_type": "execute_result"
    }
   ],
   "source": [
    "input_dict_list[0][\"A\"]"
   ]
  },
  {
   "cell_type": "code",
   "execution_count": 4,
   "metadata": {},
   "outputs": [
    {
     "name": "stdout",
     "output_type": "stream",
     "text": [
      "1697160\n"
     ]
    }
   ],
   "source": [
    "n_vars = input_dict_list[0][\"A\"].shape[1]\n",
    "n_cons = input_dict_list[0][\"A\"].shape[0]\n",
    "\n",
    "N = n_vars + n_cons\n",
    "\n",
    "print(N)"
   ]
  },
  {
   "cell_type": "code",
   "execution_count": 5,
   "metadata": {},
   "outputs": [],
   "source": [
    "# convert A matrix of bipartite data to COO format\n",
    "\n",
    "input_data_dict = []\n",
    "\n",
    "for i in range(n_sample):\n",
    "\n",
    "    tmp_dict = {}\n",
    "\n",
    "    # for row in range(n_vars):\n",
    "    #     for col in range(n_cons):\n",
    "    #         if input_dict_list[i][\"A\"][row, col] != 0:\n",
    "    #             adj_matrix[row, n_vars + col] = input_dict_list[i][\"A\"][row, col]\n",
    "    #             adj_matrix[n_vars + col, row] = input_dict_list[i][\"A\"][row, col]\n",
    "\n",
    "    I, J, V = scipy.sparse.find(input_dict_list[i][\"A\"])\n",
    "    # adj_matrix[I, n_vars + J] = V\n",
    "    # adj_matrix[n_vars + J, I] = V\n",
    "\n",
    "    # # convert to COO format\n",
    "    edge_index = torch.stack([torch.tensor(I), torch.tensor(n_vars + J)], dim=0)\n",
    "    edge_attr = torch.tensor(V)\n",
    "\n",
    "    tmp_dict[\"edge_index\"] = edge_index\n",
    "    tmp_dict[\"edge_attr\"] = edge_attr\n",
    "\n",
    "    input_data_dict.append(tmp_dict)\n"
   ]
  },
  {
   "cell_type": "code",
   "execution_count": 6,
   "metadata": {},
   "outputs": [
    {
     "name": "stdout",
     "output_type": "stream",
     "text": [
      "shape of edge_index:  torch.Size([2, 2392970])\n",
      "shape of edge_attr:  torch.Size([2392970])\n"
     ]
    }
   ],
   "source": [
    "# print shape of edge_index and edge_attr\n",
    "print(\"shape of edge_index: \", input_data_dict[0][\"edge_index\"].shape)\n",
    "print(\"shape of edge_attr: \", input_data_dict[0][\"edge_attr\"].shape)"
   ]
  },
  {
   "cell_type": "code",
   "execution_count": 7,
   "metadata": {},
   "outputs": [
    {
     "name": "stdout",
     "output_type": "stream",
     "text": [
      "(1119720,)\n",
      "(577440,)\n"
     ]
    }
   ],
   "source": [
    "print(input_dict_list[0][\"b\"].shape)\n",
    "print(input_dict_list[0][\"c\"].shape)"
   ]
  },
  {
   "cell_type": "code",
   "execution_count": 8,
   "metadata": {},
   "outputs": [],
   "source": [
    "# node features\n",
    "for i in range(n_sample):\n",
    "    input_data_dict[i][\"x\"] = torch.cat(\n",
    "        [torch.tensor(input_dict_list[i][\"b\"]), torch.tensor(input_dict_list[i][\"c\"])]\n",
    "    )"
   ]
  },
  {
   "cell_type": "code",
   "execution_count": 9,
   "metadata": {},
   "outputs": [],
   "source": [
    "\"\"\"\n",
    "Create a pytorch geometric dataset\n",
    "1. Graph - Pass in edge_index, edge_attr\n",
    "2. Node - Pass in the node features tensor for x\n",
    "3. Create a dataset by subclassing PyTorch Geometric's Dataset class. At a minimum you need to implement:\n",
    "\n",
    "    len - Returns the number of graphs in the dataset\n",
    "    get - Retrieves a graph object by its index\n",
    "\n",
    "4. You can also add additional functionality like transforms, downloading data, etc.\n",
    "\"\"\"\n",
    "\n",
    "class MIPDataset(tg.data.Dataset):\n",
    "    \"\"\"\n",
    "    A PyTorch Geometric Dataset for MIP\n",
    "\n",
    "    Parameters\n",
    "    ----------\n",
    "    input_data_dict : list of dict\n",
    "        A list of dict containing the edge_index, edge_attr, and x\n",
    "    transform : callable, optional\n",
    "        A function/transform that takes in a graph and returns a transformed version.\n",
    "        The transform must be compatible with PyTorch Geometric.\n",
    "    pre_transform : callable, optional\n",
    "        A function/transform that takes in a graph and returns a transformed version.\n",
    "        The transform must be compatible with PyTorch Geometric.\n",
    "    \"\"\"\n",
    "\n",
    "    def __init__(self, input_data_dict, transform=None, pre_transform=None):\n",
    "        super(MIPDataset, self).__init__(transform, pre_transform)\n",
    "        self.data, self.slices = self.collate(input_data_dict)\n",
    "\n",
    "    @staticmethod\n",
    "    def process(input_data_dict):\n",
    "        data_list = []\n",
    "        for i in range(len(input_data_dict)):\n",
    "            data = tg.data.Data(\n",
    "                x=input_data_dict[i][\"x\"],\n",
    "                edge_index=input_data_dict[i][\"edge_index\"],\n",
    "                edge_attr=input_data_dict[i][\"edge_attr\"],\n",
    "            )\n",
    "            data_list.append(data)\n",
    "        return data_list\n",
    "\n",
    "    def __len__(self):\n",
    "        return len(self.data)\n",
    "\n",
    "    def get(self, idx):\n",
    "        return self.data[idx]\n"
   ]
  },
  {
   "cell_type": "code",
   "execution_count": null,
   "metadata": {},
   "outputs": [],
   "source": [
    "\"\"\"\n",
    "Implement a GCN model\n",
    "\n",
    "Modification to the GCN model:\n",
    "1. Extend the node embeddings for layer l + 1 by concatenating the node embeddings from layer l. Specifically, we now define the embedding for layer l + 1 to be  ̃ Z(l+1) = (Z(l+1),  ̃ Z(l)), i.e., the concatenation of the matrices row-wise, with  ̃ Z(0) = Z0\n",
    "2. Apply layer norm at the output of each layer\n",
    "3.  modification made to a Multi-Layer Perceptron (MLP) function called fθ. \n",
    "The original function was a linear mapping followed by a fixed nonlinearity in a standard Graph Convolutional Network (GCN) developed by Kipf and Welling in 2016. \n",
    "However, in this paper, the researchers have generalized fθ to be an MLP,\n",
    "\"\"\"\n",
    "\n",
    "class GCN(torch.nn.Module):\n",
    "    def __init__(self, in_channels, out_channels, hidden_channels, num_layers):\n",
    "        super(GCN, self).__init__()\n",
    "\n",
    "        self.convs = torch.nn.ModuleList()\n",
    "        self.convs.append(\n",
    "            tg.nn.GCNConv(in_channels, hidden_channels, cached=True, normalize=False)\n",
    "        )\n",
    "        for _ in range(num_layers - 2):\n",
    "            self.convs.append(\n",
    "                tg.nn.GCNConv(\n",
    "                    hidden_channels, hidden_channels, cached=True, normalize=False\n",
    "                )\n",
    "            )\n",
    "        self.convs.append(\n",
    "            tg.nn.GCNConv(hidden_channels, out_channels, cached=True, normalize=False)\n",
    "        )\n",
    "\n",
    "        self.bns = torch.nn.ModuleList()\n",
    "        for _ in range(num_layers - 1):\n",
    "            self.bns.append(torch.nn.BatchNorm1d(hidden_channels))\n",
    "        \n",
    "        self.mlp = torch.nn.Sequential(\n",
    "            torch.nn.Linear(2 * out_channels, out_channels),\n",
    "            torch.nn.ReLU(),\n",
    "            torch.nn.Linear(out_channels, out_channels),\n",
    "        )\n",
    "\n",
    "    def forward(self, x, edge_index, edge_attr):\n",
    "        \n",
    "        # concatenate the node embeddings from layer l. Specifically, we now define the embedding for layer l + 1 to be  ̃ Z(l+1) = (Z(l+1),  ̃ Z(l)), i.e., the concatenation of the matrices row-wise, with  ̃ Z(0) = Z0 (the first layer )\n",
    "\n",
    "        for i, conv in enumerate(self.convs):\n",
    "            # use a prev_x to store the previous layer's node embeddings\n",
    "            prev_x = x.copy()\n",
    "            x = conv(x, edge_index, edge_attr)\n",
    "            x = torch.cat([x, prev_x], dim=1)\n",
    "            x = self.bns[i](x)\n",
    "            x = self.mlp(x)\n",
    "        \n",
    "        x = torch.sigmoid(x)\n",
    "\n",
    "        return x\n"
   ]
  },
  {
   "cell_type": "code",
   "execution_count": null,
   "metadata": {},
   "outputs": [],
   "source": []
  }
 ],
 "metadata": {
  "kernelspec": {
   "display_name": "me555",
   "language": "python",
   "name": "python3"
  },
  "language_info": {
   "codemirror_mode": {
    "name": "ipython",
    "version": 3
   },
   "file_extension": ".py",
   "mimetype": "text/x-python",
   "name": "python",
   "nbconvert_exporter": "python",
   "pygments_lexer": "ipython3",
   "version": "3.9.10"
  },
  "orig_nbformat": 4,
  "vscode": {
   "interpreter": {
    "hash": "4bfffb94d4f394d40f3219e4c71363d8e81f8d192d707bcd4bb6fae6b6748fb0"
   }
  }
 },
 "nbformat": 4,
 "nbformat_minor": 2
}
