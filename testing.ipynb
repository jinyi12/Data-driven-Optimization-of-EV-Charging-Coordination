{
 "cells": [
  {
   "cell_type": "code",
   "execution_count": 50,
   "metadata": {},
   "outputs": [],
   "source": [
    "import scipy\n",
    "import numpy as np\n",
    "import pandas as pd"
   ]
  },
  {
   "cell_type": "code",
   "execution_count": 51,
   "metadata": {},
   "outputs": [],
   "source": [
    "# random sparse matrix with shape 100,000 x 90,000\n",
    "dummy = scipy.sparse.random(4, 4, density=0.5, format='csr')"
   ]
  },
  {
   "cell_type": "code",
   "execution_count": 52,
   "metadata": {},
   "outputs": [
    {
     "data": {
      "text/plain": [
       "[array([0, 1], dtype=int32),\n",
       " array([0, 1], dtype=int32),\n",
       " array([2], dtype=int32),\n",
       " array([1, 2, 3], dtype=int32)]"
      ]
     },
     "execution_count": 52,
     "metadata": {},
     "output_type": "execute_result"
    }
   ],
   "source": [
    "# %%timeit\n",
    "b = dummy.tocsr()\n",
    "np.split(b.indices, b.indptr[1:-1])"
   ]
  },
  {
   "cell_type": "code",
   "execution_count": 53,
   "metadata": {},
   "outputs": [],
   "source": [
    "# %%timeit\n",
    "connected_constraints = [\n",
    "    b[i, :].nonzero()[1].tolist()\n",
    "    for i in range(b.shape[0])\n",
    "]"
   ]
  },
  {
   "cell_type": "code",
   "execution_count": 54,
   "metadata": {},
   "outputs": [
    {
     "name": "stdout",
     "output_type": "stream",
     "text": [
      "[[0.71803898 0.75373094 0.         0.        ]\n",
      " [0.4511002  0.94146668 0.         0.        ]\n",
      " [0.         0.         0.95508763 0.        ]\n",
      " [0.         0.35833639 0.921038   0.0274011 ]]\n"
     ]
    }
   ],
   "source": [
    "print(b.toarray())"
   ]
  },
  {
   "cell_type": "code",
   "execution_count": 55,
   "metadata": {},
   "outputs": [
    {
     "data": {
      "text/plain": [
       "array([0, 1, 0, 1, 2, 1, 2, 3], dtype=int32)"
      ]
     },
     "execution_count": 55,
     "metadata": {},
     "output_type": "execute_result"
    }
   ],
   "source": [
    "b.indices"
   ]
  },
  {
   "cell_type": "code",
   "execution_count": 56,
   "metadata": {},
   "outputs": [
    {
     "data": {
      "text/plain": [
       "array([0, 2, 4, 5, 8], dtype=int32)"
      ]
     },
     "execution_count": 56,
     "metadata": {},
     "output_type": "execute_result"
    }
   ],
   "source": [
    "b.indptr"
   ]
  },
  {
   "cell_type": "code",
   "execution_count": 57,
   "metadata": {},
   "outputs": [
    {
     "data": {
      "text/plain": [
       "array([0.71803898, 0.75373094])"
      ]
     },
     "execution_count": 57,
     "metadata": {},
     "output_type": "execute_result"
    }
   ],
   "source": [
    "b.data[b.indptr[0]:b.indptr[1]]"
   ]
  },
  {
   "cell_type": "code",
   "execution_count": 58,
   "metadata": {},
   "outputs": [],
   "source": [
    "degrees = np.diff(b.indptr)"
   ]
  },
  {
   "cell_type": "code",
   "execution_count": 59,
   "metadata": {},
   "outputs": [
    {
     "data": {
      "text/plain": [
       "2.0"
      ]
     },
     "execution_count": 59,
     "metadata": {},
     "output_type": "execute_result"
    }
   ],
   "source": [
    "np.mean(degrees)"
   ]
  },
  {
   "cell_type": "code",
   "execution_count": 60,
   "metadata": {},
   "outputs": [],
   "source": [
    "coefficients = np.split(b.data, b.indptr[1:-1])\n",
    "\n",
    "# mean_coefficient = np.mean(coefficients, axis=1)\n",
    "# std_coefficient = np.std(coefficients, axis=1)\n",
    "# min_coefficient = np.min(coefficients, axis=1)\n",
    "# max_coefficient = np.max(coefficients, axis=1)\n",
    "# sum_norm_abs_coefficient = np.sum(np.abs(coefficients), axis=1)"
   ]
  },
  {
   "cell_type": "code",
   "execution_count": 61,
   "metadata": {},
   "outputs": [],
   "source": [
    "coefficients = np.split(b.data, b.indptr[1:-1])"
   ]
  },
  {
   "cell_type": "code",
   "execution_count": 62,
   "metadata": {},
   "outputs": [
    {
     "data": {
      "text/plain": [
       "[array([0.71803898, 0.75373094]),\n",
       " array([0.4511002 , 0.94146668]),\n",
       " array([0.95508763]),\n",
       " array([0.35833639, 0.921038  , 0.0274011 ])]"
      ]
     },
     "execution_count": 62,
     "metadata": {},
     "output_type": "execute_result"
    }
   ],
   "source": [
    "coefficients"
   ]
  },
  {
   "cell_type": "code",
   "execution_count": 72,
   "metadata": {},
   "outputs": [
    {
     "name": "stdout",
     "output_type": "stream",
     "text": [
      "[0.87345251 0.71578605 0.6747381  0.36243384]\n",
      "[0.09903906 0.15981075 0.09079157 0.11519606]\n",
      "[0.77441345 0.5559753  0.58394653 0.24723777]\n",
      "[0.97249157 0.8755968  0.76552967 0.4776299 ]\n",
      "[1.74690502 1.4315721  1.3494762  0.72486767]\n"
     ]
    }
   ],
   "source": [
    "print(mean_coefficient)\n",
    "print(std_coefficient)\n",
    "print(min_coefficient)\n",
    "print(max_coefficient)\n",
    "print(sum_norm_abs_coefficient)"
   ]
  },
  {
   "cell_type": "code",
   "execution_count": 73,
   "metadata": {},
   "outputs": [
    {
     "data": {
      "text/plain": [
       "(4, 5)"
      ]
     },
     "execution_count": 73,
     "metadata": {},
     "output_type": "execute_result"
    }
   ],
   "source": [
    "np.column_stack(\n",
    "    (\n",
    "        mean_coefficient,\n",
    "        std_coefficient,\n",
    "        min_coefficient,\n",
    "        max_coefficient,\n",
    "        sum_norm_abs_coefficient,\n",
    "    )\n",
    ").shape\n"
   ]
  },
  {
   "cell_type": "code",
   "execution_count": 74,
   "metadata": {},
   "outputs": [
    {
     "data": {
      "text/plain": [
       "array([2, 3, 2, 1])"
      ]
     },
     "execution_count": 74,
     "metadata": {},
     "output_type": "execute_result"
    }
   ],
   "source": [
    "scipy.sparse.csr_matrix(dummy).getnnz(axis=0)"
   ]
  },
  {
   "cell_type": "code",
   "execution_count": 75,
   "metadata": {},
   "outputs": [],
   "source": [
    "c = b.tocsc()"
   ]
  },
  {
   "cell_type": "code",
   "execution_count": 76,
   "metadata": {},
   "outputs": [
    {
     "name": "stdout",
     "output_type": "stream",
     "text": [
      "[[0.71803898 0.75373094 0.         0.        ]\n",
      " [0.4511002  0.94146668 0.         0.        ]\n",
      " [0.         0.         0.95508763 0.        ]\n",
      " [0.         0.35833639 0.921038   0.0274011 ]]\n"
     ]
    }
   ],
   "source": [
    "print(c.toarray())"
   ]
  },
  {
   "cell_type": "code",
   "execution_count": 77,
   "metadata": {},
   "outputs": [
    {
     "data": {
      "text/plain": [
       "array([0, 1, 0, 1, 3, 2, 3, 3], dtype=int32)"
      ]
     },
     "execution_count": 77,
     "metadata": {},
     "output_type": "execute_result"
    }
   ],
   "source": [
    "c.indices"
   ]
  },
  {
   "cell_type": "code",
   "execution_count": 68,
   "metadata": {},
   "outputs": [
    {
     "data": {
      "text/plain": [
       "array([0, 2, 5, 7, 8], dtype=int32)"
      ]
     },
     "execution_count": 68,
     "metadata": {},
     "output_type": "execute_result"
    }
   ],
   "source": [
    "c.indptr"
   ]
  },
  {
   "cell_type": "code",
   "execution_count": 69,
   "metadata": {},
   "outputs": [
    {
     "data": {
      "text/plain": [
       "[array([0.71803898, 0.4511002 ]),\n",
       " array([0.75373094, 0.94146668, 0.35833639]),\n",
       " array([0.95508763, 0.921038  ]),\n",
       " array([0.0274011])]"
      ]
     },
     "execution_count": 69,
     "metadata": {},
     "output_type": "execute_result"
    }
   ],
   "source": [
    "np.split(c.data, c.indptr[1:-1])"
   ]
  },
  {
   "cell_type": "code",
   "execution_count": 79,
   "metadata": {},
   "outputs": [],
   "source": [
    "non_zero_cons_for_var = np.split(c.indices, c.indptr[1:-1])"
   ]
  },
  {
   "cell_type": "code",
   "execution_count": 78,
   "metadata": {},
   "outputs": [
    {
     "data": {
      "text/plain": [
       "array([2, 2, 1, 3], dtype=int32)"
      ]
     },
     "execution_count": 78,
     "metadata": {},
     "output_type": "execute_result"
    }
   ],
   "source": [
    "degrees[]"
   ]
  }
 ],
 "metadata": {
  "kernelspec": {
   "display_name": "Python (optimization)",
   "language": "python",
   "name": "optimization"
  },
  "language_info": {
   "codemirror_mode": {
    "name": "ipython",
    "version": 3
   },
   "file_extension": ".py",
   "mimetype": "text/x-python",
   "name": "python",
   "nbconvert_exporter": "python",
   "pygments_lexer": "ipython3",
   "version": "3.10.10"
  },
  "orig_nbformat": 4
 },
 "nbformat": 4,
 "nbformat_minor": 2
}
