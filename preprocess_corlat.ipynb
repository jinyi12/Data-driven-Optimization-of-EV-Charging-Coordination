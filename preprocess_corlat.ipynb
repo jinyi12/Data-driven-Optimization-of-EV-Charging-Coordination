{
 "cells": [
  {
   "cell_type": "code",
   "execution_count": 1,
   "metadata": {},
   "outputs": [],
   "source": [
    "import torch\n",
    "import pandas as pd\n",
    "import numpy as np\n",
    "import pickle as pkl\n",
    "import scipy\n",
    "import os"
   ]
  },
  {
   "cell_type": "code",
   "execution_count": null,
   "metadata": {},
   "outputs": [],
   "source": [
    "!nvidia-smi"
   ]
  },
  {
   "cell_type": "code",
   "execution_count": 2,
   "metadata": {},
   "outputs": [],
   "source": [
    "try:\n",
    "    corlat_dataset = pkl.load(open(\"Data/corlat/corlat.pickle\", \"rb\"))\n",
    "except:\n",
    "    # move dir to /ibm/gpfs/home/yjin0055/Project/DayAheadForecast\n",
    "    os.chdir(\"/ibm/gpfs/home/yjin0055/Project/DayAheadForecast\")\n",
    "    corlat_dataset = pkl.load(open(\"Data/corlat/corlat.pickle\", \"rb\"))"
   ]
  },
  {
   "cell_type": "code",
   "execution_count": 8,
   "metadata": {},
   "outputs": [
    {
     "name": "stdout",
     "output_type": "stream",
     "text": [
      "keys:  dict_keys(['solution', 'indices', 'input'])\n",
      "input keys:  dict_keys(['A', 'var_node_features', 'constraint_node_features'])\n"
     ]
    }
   ],
   "source": [
    "# print the keys of the dataset\n",
    "print(\"keys: \", corlat_dataset[0].keys())\n",
    "print(\"input keys: \", corlat_dataset[0][\"input\"].keys())\n"
   ]
  },
  {
   "cell_type": "code",
   "execution_count": 11,
   "metadata": {},
   "outputs": [
    {
     "name": "stdout",
     "output_type": "stream",
     "text": [
      "Var node features shape:  (466, 17)\n",
      "Constraint node features shape:  (470, 9)\n"
     ]
    }
   ],
   "source": [
    "print(\"Var node features shape: \", corlat_dataset[0][\"input\"][\"var_node_features\"].shape)\n",
    "print(\"Constraint node features shape: \", corlat_dataset[0][\"input\"][\"constraint_node_features\"].shape)"
   ]
  },
  {
   "cell_type": "code",
   "execution_count": null,
   "metadata": {},
   "outputs": [],
   "source": [
    "# names of the variable features\n",
    "# 1. Mean degree of the constraint nodes connected to the variable\n",
    "# 2. Std. deviation of the degree of the constraint nodes connected to the variable\n",
    "# 3. Min. degree of the constraint nodes connected to the variable\n",
    "# 4. Max. degree of the constraint nodes connected to the variable\n",
    "# 5. Mean coefficient of the constraint nodes connected to the variable\n",
    "# 6. Std. deviation of the coefficient of the constraint nodes connected to the variable\n",
    "# 7. Min. coefficient of the constraint nodes connected to the variable\n",
    "# 8. Max. coefficient of the constraint nodes connected to the variable"
   ]
  }
 ],
 "metadata": {
  "kernelspec": {
   "display_name": "Python (optimization)",
   "language": "python",
   "name": "optimization"
  },
  "language_info": {
   "codemirror_mode": {
    "name": "ipython",
    "version": 3
   },
   "file_extension": ".py",
   "mimetype": "text/x-python",
   "name": "python",
   "nbconvert_exporter": "python",
   "pygments_lexer": "ipython3",
   "version": "3.10.10"
  },
  "orig_nbformat": 4
 },
 "nbformat": 4,
 "nbformat_minor": 2
}
