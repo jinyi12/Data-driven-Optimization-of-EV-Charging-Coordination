{
 "cells": [
  {
   "cell_type": "code",
   "execution_count": 1,
   "metadata": {},
   "outputs": [],
   "source": [
    "import torch\n",
    "import pandas as pd\n",
    "import numpy as np\n",
    "import pickle as pkl\n",
    "import scipy\n",
    "import os"
   ]
  },
  {
   "cell_type": "code",
   "execution_count": null,
   "metadata": {},
   "outputs": [],
   "source": [
    "!nvidia-smi"
   ]
  },
  {
   "cell_type": "code",
   "execution_count": 2,
   "metadata": {},
   "outputs": [],
   "source": [
    "try:\n",
    "    corlat_dataset = pkl.load(open(\"Data/corlat/corlat.pickle\", \"rb\"))\n",
    "except:\n",
    "    # move dir to /ibm/gpfs/home/yjin0055/Project/DayAheadForecast\n",
    "    os.chdir(\"/ibm/gpfs/home/yjin0055/Project/DayAheadForecast\")\n",
    "    corlat_dataset = pkl.load(open(\"Data/corlat/corlat.pickle\", \"rb\"))"
   ]
  },
  {
   "cell_type": "code",
   "execution_count": 8,
   "metadata": {},
   "outputs": [
    {
     "name": "stdout",
     "output_type": "stream",
     "text": [
      "keys:  dict_keys(['solution', 'indices', 'input'])\n",
      "input keys:  dict_keys(['A', 'var_node_features', 'constraint_node_features'])\n"
     ]
    }
   ],
   "source": [
    "# print the keys of the dataset\n",
    "print(\"keys: \", corlat_dataset[0].keys())\n",
    "print(\"input keys: \", corlat_dataset[0][\"input\"].keys())\n"
   ]
  },
  {
   "cell_type": "code",
   "execution_count": 11,
   "metadata": {},
   "outputs": [
    {
     "name": "stdout",
     "output_type": "stream",
     "text": [
      "Var node features shape:  (466, 17)\n",
      "Constraint node features shape:  (470, 9)\n"
     ]
    }
   ],
   "source": [
    "print(\"Var node features shape: \", corlat_dataset[0][\"input\"][\"var_node_features\"].shape)\n",
    "print(\"Constraint node features shape: \", corlat_dataset[0][\"input\"][\"constraint_node_features\"].shape)"
   ]
  },
  {
   "cell_type": "code",
   "execution_count": 12,
   "metadata": {},
   "outputs": [],
   "source": [
    "# names of the variable features\n",
    "# 1. Variable objective coefficient\n",
    "# 2. Variable type\n",
    "# 3. Number of non-zero coefficients in the constraint\n",
    "# 4. LP relaxation value at root node\n",
    "# 5. Is LP relaxation value fractional\n",
    "# 6. LP solution value equals lower bound\n",
    "# 7. LP solution value equals upper bound\n",
    "# 8. Has lower bound\n",
    "# 9. Has upper bound\n",
    "# 10. Mean degree of the constraint nodes connected to the variable\n",
    "# 11. Std. deviation of the degree of the constraint nodes connected to the variable\n",
    "# 12. Min. degree of the constraint nodes connected to the variable\n",
    "# 13. Max. degree of the constraint nodes connected to the variable\n",
    "# 14. Mean coefficient of the constraint nodes connected to the variable\n",
    "# 15. Std. deviation of the coefficient of the constraint nodes connected to the variable\n",
    "# 16. Min. coefficient of the constraint nodes connected to the variable\n",
    "# 17. Max. coefficient of the constraint nodes connected to the variable"
   ]
  },
  {
   "cell_type": "code",
   "execution_count": 16,
   "metadata": {},
   "outputs": [
    {
     "name": "stdout",
     "output_type": "stream",
     "text": [
      "feature 0 : <class 'numpy.str_'>\n",
      "feature 1 : <class 'numpy.str_'>\n",
      "feature 2 : <class 'numpy.str_'>\n",
      "feature 3 : <class 'numpy.str_'>\n",
      "feature 4 : <class 'numpy.str_'>\n",
      "feature 5 : <class 'numpy.str_'>\n",
      "feature 6 : <class 'numpy.str_'>\n",
      "feature 7 : <class 'numpy.str_'>\n",
      "feature 8 : <class 'numpy.str_'>\n",
      "feature 9 : <class 'numpy.str_'>\n",
      "feature 10 : <class 'numpy.str_'>\n",
      "feature 11 : <class 'numpy.str_'>\n",
      "feature 12 : <class 'numpy.str_'>\n",
      "feature 13 : <class 'numpy.str_'>\n",
      "feature 14 : <class 'numpy.str_'>\n",
      "feature 15 : <class 'numpy.str_'>\n",
      "feature 16 : <class 'numpy.str_'>\n"
     ]
    }
   ],
   "source": [
    "# print feature type for variable node\n",
    "for i in range(corlat_dataset[0][\"input\"][\"var_node_features\"].shape[1]):\n",
    "    print(\"feature\", i, \":\", type(corlat_dataset[0][\"input\"][\"var_node_features\"][0][i]))"
   ]
  },
  {
   "cell_type": "code",
   "execution_count": 27,
   "metadata": {},
   "outputs": [
    {
     "name": "stdout",
     "output_type": "stream",
     "text": [
      "['5.0' 'B' '6' '1.0' '0.0' '0.0' '1.0' '1.0' '1.0' '-50.166666666666664'\n",
      " '49.83779244263891' '-100.0' '1.0' '-50.166666666666664'\n",
      " '49.83779244263891' '-100.0' '1.0']\n"
     ]
    }
   ],
   "source": [
    "# print one row of the variable node features\n",
    "print(corlat_dataset[0][\"input\"][\"var_node_features\"][0])"
   ]
  },
  {
   "cell_type": "code",
   "execution_count": 29,
   "metadata": {},
   "outputs": [],
   "source": [
    "# make dataframe for variable node features\n",
    "for i in range(len(corlat_dataset)):\n",
    "    corlat_dataset[i][\"input\"][\"var_node_features\"] = pd.DataFrame(\n",
    "        corlat_dataset[i][\"input\"][\"var_node_features\"]\n",
    "    )\n",
    "    corlat_dataset[i][\"input\"][\"var_node_features\"].columns = [\n",
    "        \"var_obj_coef\",\n",
    "        \"var_type\",\n",
    "        \"num_nonzero_coef\",\n",
    "        \"lp_relax_val\",\n",
    "        \"is_lp_relax_val_frac\",\n",
    "        \"lp_sol_val_eq_lb\",\n",
    "        \"lp_sol_val_eq_ub\",\n",
    "        \"has_lb\",\n",
    "        \"has_ub\",\n",
    "        \"mean_degree\",\n",
    "        \"std_degree\",\n",
    "        \"min_degree\",\n",
    "        \"max_degree\",\n",
    "        \"mean_coef\",\n",
    "        \"std_coef\",\n",
    "        \"min_coef\",\n",
    "        \"max_coef\",\n",
    "    ]"
   ]
  },
  {
   "cell_type": "code",
   "execution_count": 33,
   "metadata": {},
   "outputs": [
    {
     "data": {
      "text/html": [
       "<div>\n",
       "<style scoped>\n",
       "    .dataframe tbody tr th:only-of-type {\n",
       "        vertical-align: middle;\n",
       "    }\n",
       "\n",
       "    .dataframe tbody tr th {\n",
       "        vertical-align: top;\n",
       "    }\n",
       "\n",
       "    .dataframe thead th {\n",
       "        text-align: right;\n",
       "    }\n",
       "</style>\n",
       "<table border=\"1\" class=\"dataframe\">\n",
       "  <thead>\n",
       "    <tr style=\"text-align: right;\">\n",
       "      <th></th>\n",
       "      <th>var_obj_coef</th>\n",
       "      <th>var_type</th>\n",
       "      <th>num_nonzero_coef</th>\n",
       "      <th>lp_relax_val</th>\n",
       "      <th>is_lp_relax_val_frac</th>\n",
       "      <th>lp_sol_val_eq_lb</th>\n",
       "      <th>lp_sol_val_eq_ub</th>\n",
       "      <th>has_lb</th>\n",
       "      <th>has_ub</th>\n",
       "      <th>mean_degree</th>\n",
       "      <th>std_degree</th>\n",
       "      <th>min_degree</th>\n",
       "      <th>max_degree</th>\n",
       "      <th>mean_coef</th>\n",
       "      <th>std_coef</th>\n",
       "      <th>min_coef</th>\n",
       "      <th>max_coef</th>\n",
       "    </tr>\n",
       "  </thead>\n",
       "  <tbody>\n",
       "    <tr>\n",
       "      <th>0</th>\n",
       "      <td>5.0</td>\n",
       "      <td>B</td>\n",
       "      <td>6</td>\n",
       "      <td>1.0</td>\n",
       "      <td>0.0</td>\n",
       "      <td>0.0</td>\n",
       "      <td>1.0</td>\n",
       "      <td>1.0</td>\n",
       "      <td>1.0</td>\n",
       "      <td>-50.166666666666664</td>\n",
       "      <td>49.83779244263891</td>\n",
       "      <td>-100.0</td>\n",
       "      <td>1.0</td>\n",
       "      <td>-50.166666666666664</td>\n",
       "      <td>49.83779244263891</td>\n",
       "      <td>-100.0</td>\n",
       "      <td>1.0</td>\n",
       "    </tr>\n",
       "    <tr>\n",
       "      <th>1</th>\n",
       "      <td>4.0</td>\n",
       "      <td>B</td>\n",
       "      <td>6</td>\n",
       "      <td>0.0</td>\n",
       "      <td>0.0</td>\n",
       "      <td>1.0</td>\n",
       "      <td>0.0</td>\n",
       "      <td>1.0</td>\n",
       "      <td>1.0</td>\n",
       "      <td>-48.833333333333336</td>\n",
       "      <td>51.27512934053788</td>\n",
       "      <td>-100.0</td>\n",
       "      <td>9.0</td>\n",
       "      <td>-48.833333333333336</td>\n",
       "      <td>51.27512934053788</td>\n",
       "      <td>-100.0</td>\n",
       "      <td>9.0</td>\n",
       "    </tr>\n",
       "    <tr>\n",
       "      <th>2</th>\n",
       "      <td>6.0</td>\n",
       "      <td>B</td>\n",
       "      <td>6</td>\n",
       "      <td>-0.0</td>\n",
       "      <td>0.0</td>\n",
       "      <td>1.0</td>\n",
       "      <td>0.0</td>\n",
       "      <td>1.0</td>\n",
       "      <td>1.0</td>\n",
       "      <td>-50.166666666666664</td>\n",
       "      <td>49.83779244263891</td>\n",
       "      <td>-100.0</td>\n",
       "      <td>1.0</td>\n",
       "      <td>-50.166666666666664</td>\n",
       "      <td>49.83779244263891</td>\n",
       "      <td>-100.0</td>\n",
       "      <td>1.0</td>\n",
       "    </tr>\n",
       "    <tr>\n",
       "      <th>3</th>\n",
       "      <td>5.0</td>\n",
       "      <td>B</td>\n",
       "      <td>6</td>\n",
       "      <td>-0.0</td>\n",
       "      <td>0.0</td>\n",
       "      <td>1.0</td>\n",
       "      <td>0.0</td>\n",
       "      <td>1.0</td>\n",
       "      <td>1.0</td>\n",
       "      <td>-48.833333333333336</td>\n",
       "      <td>51.27512934053788</td>\n",
       "      <td>-100.0</td>\n",
       "      <td>9.0</td>\n",
       "      <td>-48.833333333333336</td>\n",
       "      <td>51.27512934053788</td>\n",
       "      <td>-100.0</td>\n",
       "      <td>9.0</td>\n",
       "    </tr>\n",
       "    <tr>\n",
       "      <th>4</th>\n",
       "      <td>3.0</td>\n",
       "      <td>B</td>\n",
       "      <td>6</td>\n",
       "      <td>-0.0</td>\n",
       "      <td>0.0</td>\n",
       "      <td>1.0</td>\n",
       "      <td>0.0</td>\n",
       "      <td>1.0</td>\n",
       "      <td>1.0</td>\n",
       "      <td>-48.833333333333336</td>\n",
       "      <td>51.27512934053788</td>\n",
       "      <td>-100.0</td>\n",
       "      <td>9.0</td>\n",
       "      <td>-48.833333333333336</td>\n",
       "      <td>51.27512934053788</td>\n",
       "      <td>-100.0</td>\n",
       "      <td>9.0</td>\n",
       "    </tr>\n",
       "  </tbody>\n",
       "</table>\n",
       "</div>"
      ],
      "text/plain": [
       "  var_obj_coef var_type num_nonzero_coef lp_relax_val is_lp_relax_val_frac  \\\n",
       "0          5.0        B                6          1.0                  0.0   \n",
       "1          4.0        B                6          0.0                  0.0   \n",
       "2          6.0        B                6         -0.0                  0.0   \n",
       "3          5.0        B                6         -0.0                  0.0   \n",
       "4          3.0        B                6         -0.0                  0.0   \n",
       "\n",
       "  lp_sol_val_eq_lb lp_sol_val_eq_ub has_lb has_ub          mean_degree  \\\n",
       "0              0.0              1.0    1.0    1.0  -50.166666666666664   \n",
       "1              1.0              0.0    1.0    1.0  -48.833333333333336   \n",
       "2              1.0              0.0    1.0    1.0  -50.166666666666664   \n",
       "3              1.0              0.0    1.0    1.0  -48.833333333333336   \n",
       "4              1.0              0.0    1.0    1.0  -48.833333333333336   \n",
       "\n",
       "          std_degree min_degree max_degree            mean_coef  \\\n",
       "0  49.83779244263891     -100.0        1.0  -50.166666666666664   \n",
       "1  51.27512934053788     -100.0        9.0  -48.833333333333336   \n",
       "2  49.83779244263891     -100.0        1.0  -50.166666666666664   \n",
       "3  51.27512934053788     -100.0        9.0  -48.833333333333336   \n",
       "4  51.27512934053788     -100.0        9.0  -48.833333333333336   \n",
       "\n",
       "            std_coef min_coef max_coef  \n",
       "0  49.83779244263891   -100.0      1.0  \n",
       "1  51.27512934053788   -100.0      9.0  \n",
       "2  49.83779244263891   -100.0      1.0  \n",
       "3  51.27512934053788   -100.0      9.0  \n",
       "4  51.27512934053788   -100.0      9.0  "
      ]
     },
     "execution_count": 33,
     "metadata": {},
     "output_type": "execute_result"
    }
   ],
   "source": [
    "# print head of the variable node features\n",
    "corlat_dataset[0][\"input\"][\"var_node_features\"].head()"
   ]
  },
  {
   "cell_type": "code",
   "execution_count": 31,
   "metadata": {},
   "outputs": [
    {
     "ename": "ValueError",
     "evalue": "invalid literal for int() with base 10: '-100.0'",
     "output_type": "error",
     "traceback": [
      "\u001b[0;31m---------------------------------------------------------------------------\u001b[0m",
      "\u001b[0;31mValueError\u001b[0m                                Traceback (most recent call last)",
      "Cell \u001b[0;32mIn[31], line 42\u001b[0m\n\u001b[1;32m     20\u001b[0m var_column_types \u001b[39m=\u001b[39m {\n\u001b[1;32m     21\u001b[0m     \u001b[39m\"\u001b[39m\u001b[39mvar_obj_coef\u001b[39m\u001b[39m\"\u001b[39m: \u001b[39mfloat\u001b[39m,\n\u001b[1;32m     22\u001b[0m     \u001b[39m\"\u001b[39m\u001b[39mvar_type\u001b[39m\u001b[39m\"\u001b[39m: \u001b[39mstr\u001b[39m,\n\u001b[0;32m   (...)\u001b[0m\n\u001b[1;32m     37\u001b[0m     \u001b[39m\"\u001b[39m\u001b[39mmax_coef\u001b[39m\u001b[39m\"\u001b[39m: \u001b[39mfloat\u001b[39m,\n\u001b[1;32m     38\u001b[0m }\n\u001b[1;32m     39\u001b[0m \u001b[39mfor\u001b[39;00m i \u001b[39min\u001b[39;00m \u001b[39mrange\u001b[39m(\u001b[39mlen\u001b[39m(corlat_dataset)):\n\u001b[1;32m     40\u001b[0m     corlat_dataset[i][\u001b[39m\"\u001b[39m\u001b[39minput\u001b[39m\u001b[39m\"\u001b[39m][\u001b[39m\"\u001b[39m\u001b[39mvar_node_features\u001b[39m\u001b[39m\"\u001b[39m] \u001b[39m=\u001b[39m corlat_dataset[i][\n\u001b[1;32m     41\u001b[0m         \u001b[39m\"\u001b[39;49m\u001b[39minput\u001b[39;49m\u001b[39m\"\u001b[39;49m\n\u001b[0;32m---> 42\u001b[0m     ][\u001b[39m\"\u001b[39;49m\u001b[39mvar_node_features\u001b[39;49m\u001b[39m\"\u001b[39;49m]\u001b[39m.\u001b[39;49mastype(var_column_types)\n",
      "File \u001b[0;32m~/.conda/envs/optimization/lib/python3.10/site-packages/pandas/core/generic.py:6226\u001b[0m, in \u001b[0;36mNDFrame.astype\u001b[0;34m(self, dtype, copy, errors)\u001b[0m\n\u001b[1;32m   6224\u001b[0m             res_col \u001b[39m=\u001b[39m col\u001b[39m.\u001b[39mcopy() \u001b[39mif\u001b[39;00m copy \u001b[39melse\u001b[39;00m col\n\u001b[1;32m   6225\u001b[0m         \u001b[39melse\u001b[39;00m:\n\u001b[0;32m-> 6226\u001b[0m             res_col \u001b[39m=\u001b[39m col\u001b[39m.\u001b[39;49mastype(dtype\u001b[39m=\u001b[39;49mcdt, copy\u001b[39m=\u001b[39;49mcopy, errors\u001b[39m=\u001b[39;49merrors)\n\u001b[1;32m   6227\u001b[0m         results\u001b[39m.\u001b[39mappend(res_col)\n\u001b[1;32m   6229\u001b[0m \u001b[39melif\u001b[39;00m is_extension_array_dtype(dtype) \u001b[39mand\u001b[39;00m \u001b[39mself\u001b[39m\u001b[39m.\u001b[39mndim \u001b[39m>\u001b[39m \u001b[39m1\u001b[39m:\n\u001b[1;32m   6230\u001b[0m     \u001b[39m# GH 18099/22869: columnwise conversion to extension dtype\u001b[39;00m\n\u001b[1;32m   6231\u001b[0m     \u001b[39m# GH 24704: use iloc to handle duplicate column names\u001b[39;00m\n\u001b[1;32m   6232\u001b[0m     \u001b[39m# TODO(EA2D): special case not needed with 2D EAs\u001b[39;00m\n",
      "File \u001b[0;32m~/.conda/envs/optimization/lib/python3.10/site-packages/pandas/core/generic.py:6240\u001b[0m, in \u001b[0;36mNDFrame.astype\u001b[0;34m(self, dtype, copy, errors)\u001b[0m\n\u001b[1;32m   6233\u001b[0m     results \u001b[39m=\u001b[39m [\n\u001b[1;32m   6234\u001b[0m         \u001b[39mself\u001b[39m\u001b[39m.\u001b[39miloc[:, i]\u001b[39m.\u001b[39mastype(dtype, copy\u001b[39m=\u001b[39mcopy)\n\u001b[1;32m   6235\u001b[0m         \u001b[39mfor\u001b[39;00m i \u001b[39min\u001b[39;00m \u001b[39mrange\u001b[39m(\u001b[39mlen\u001b[39m(\u001b[39mself\u001b[39m\u001b[39m.\u001b[39mcolumns))\n\u001b[1;32m   6236\u001b[0m     ]\n\u001b[1;32m   6238\u001b[0m \u001b[39melse\u001b[39;00m:\n\u001b[1;32m   6239\u001b[0m     \u001b[39m# else, only a single dtype is given\u001b[39;00m\n\u001b[0;32m-> 6240\u001b[0m     new_data \u001b[39m=\u001b[39m \u001b[39mself\u001b[39;49m\u001b[39m.\u001b[39;49m_mgr\u001b[39m.\u001b[39;49mastype(dtype\u001b[39m=\u001b[39;49mdtype, copy\u001b[39m=\u001b[39;49mcopy, errors\u001b[39m=\u001b[39;49merrors)\n\u001b[1;32m   6241\u001b[0m     \u001b[39mreturn\u001b[39;00m \u001b[39mself\u001b[39m\u001b[39m.\u001b[39m_constructor(new_data)\u001b[39m.\u001b[39m__finalize__(\u001b[39mself\u001b[39m, method\u001b[39m=\u001b[39m\u001b[39m\"\u001b[39m\u001b[39mastype\u001b[39m\u001b[39m\"\u001b[39m)\n\u001b[1;32m   6243\u001b[0m \u001b[39m# GH 33113: handle empty frame or series\u001b[39;00m\n",
      "File \u001b[0;32m~/.conda/envs/optimization/lib/python3.10/site-packages/pandas/core/internals/managers.py:448\u001b[0m, in \u001b[0;36mBaseBlockManager.astype\u001b[0;34m(self, dtype, copy, errors)\u001b[0m\n\u001b[1;32m    447\u001b[0m \u001b[39mdef\u001b[39;00m \u001b[39mastype\u001b[39m(\u001b[39mself\u001b[39m: T, dtype, copy: \u001b[39mbool\u001b[39m \u001b[39m=\u001b[39m \u001b[39mFalse\u001b[39;00m, errors: \u001b[39mstr\u001b[39m \u001b[39m=\u001b[39m \u001b[39m\"\u001b[39m\u001b[39mraise\u001b[39m\u001b[39m\"\u001b[39m) \u001b[39m-\u001b[39m\u001b[39m>\u001b[39m T:\n\u001b[0;32m--> 448\u001b[0m     \u001b[39mreturn\u001b[39;00m \u001b[39mself\u001b[39;49m\u001b[39m.\u001b[39;49mapply(\u001b[39m\"\u001b[39;49m\u001b[39mastype\u001b[39;49m\u001b[39m\"\u001b[39;49m, dtype\u001b[39m=\u001b[39;49mdtype, copy\u001b[39m=\u001b[39;49mcopy, errors\u001b[39m=\u001b[39;49merrors)\n",
      "File \u001b[0;32m~/.conda/envs/optimization/lib/python3.10/site-packages/pandas/core/internals/managers.py:352\u001b[0m, in \u001b[0;36mBaseBlockManager.apply\u001b[0;34m(self, f, align_keys, ignore_failures, **kwargs)\u001b[0m\n\u001b[1;32m    350\u001b[0m         applied \u001b[39m=\u001b[39m b\u001b[39m.\u001b[39mapply(f, \u001b[39m*\u001b[39m\u001b[39m*\u001b[39mkwargs)\n\u001b[1;32m    351\u001b[0m     \u001b[39melse\u001b[39;00m:\n\u001b[0;32m--> 352\u001b[0m         applied \u001b[39m=\u001b[39m \u001b[39mgetattr\u001b[39;49m(b, f)(\u001b[39m*\u001b[39;49m\u001b[39m*\u001b[39;49mkwargs)\n\u001b[1;32m    353\u001b[0m \u001b[39mexcept\u001b[39;00m (\u001b[39mTypeError\u001b[39;00m, \u001b[39mNotImplementedError\u001b[39;00m):\n\u001b[1;32m    354\u001b[0m     \u001b[39mif\u001b[39;00m \u001b[39mnot\u001b[39;00m ignore_failures:\n",
      "File \u001b[0;32m~/.conda/envs/optimization/lib/python3.10/site-packages/pandas/core/internals/blocks.py:526\u001b[0m, in \u001b[0;36mBlock.astype\u001b[0;34m(self, dtype, copy, errors)\u001b[0m\n\u001b[1;32m    508\u001b[0m \u001b[39m\"\"\"\u001b[39;00m\n\u001b[1;32m    509\u001b[0m \u001b[39mCoerce to the new dtype.\u001b[39;00m\n\u001b[1;32m    510\u001b[0m \n\u001b[0;32m   (...)\u001b[0m\n\u001b[1;32m    522\u001b[0m \u001b[39mBlock\u001b[39;00m\n\u001b[1;32m    523\u001b[0m \u001b[39m\"\"\"\u001b[39;00m\n\u001b[1;32m    524\u001b[0m values \u001b[39m=\u001b[39m \u001b[39mself\u001b[39m\u001b[39m.\u001b[39mvalues\n\u001b[0;32m--> 526\u001b[0m new_values \u001b[39m=\u001b[39m astype_array_safe(values, dtype, copy\u001b[39m=\u001b[39;49mcopy, errors\u001b[39m=\u001b[39;49merrors)\n\u001b[1;32m    528\u001b[0m new_values \u001b[39m=\u001b[39m maybe_coerce_values(new_values)\n\u001b[1;32m    529\u001b[0m newb \u001b[39m=\u001b[39m \u001b[39mself\u001b[39m\u001b[39m.\u001b[39mmake_block(new_values)\n",
      "File \u001b[0;32m~/.conda/envs/optimization/lib/python3.10/site-packages/pandas/core/dtypes/astype.py:299\u001b[0m, in \u001b[0;36mastype_array_safe\u001b[0;34m(values, dtype, copy, errors)\u001b[0m\n\u001b[1;32m    296\u001b[0m     \u001b[39mreturn\u001b[39;00m values\u001b[39m.\u001b[39mcopy()\n\u001b[1;32m    298\u001b[0m \u001b[39mtry\u001b[39;00m:\n\u001b[0;32m--> 299\u001b[0m     new_values \u001b[39m=\u001b[39m astype_array(values, dtype, copy\u001b[39m=\u001b[39;49mcopy)\n\u001b[1;32m    300\u001b[0m \u001b[39mexcept\u001b[39;00m (\u001b[39mValueError\u001b[39;00m, \u001b[39mTypeError\u001b[39;00m):\n\u001b[1;32m    301\u001b[0m     \u001b[39m# e.g. astype_nansafe can fail on object-dtype of strings\u001b[39;00m\n\u001b[1;32m    302\u001b[0m     \u001b[39m#  trying to convert to float\u001b[39;00m\n\u001b[1;32m    303\u001b[0m     \u001b[39mif\u001b[39;00m errors \u001b[39m==\u001b[39m \u001b[39m\"\u001b[39m\u001b[39mignore\u001b[39m\u001b[39m\"\u001b[39m:\n",
      "File \u001b[0;32m~/.conda/envs/optimization/lib/python3.10/site-packages/pandas/core/dtypes/astype.py:230\u001b[0m, in \u001b[0;36mastype_array\u001b[0;34m(values, dtype, copy)\u001b[0m\n\u001b[1;32m    227\u001b[0m     values \u001b[39m=\u001b[39m values\u001b[39m.\u001b[39mastype(dtype, copy\u001b[39m=\u001b[39mcopy)\n\u001b[1;32m    229\u001b[0m \u001b[39melse\u001b[39;00m:\n\u001b[0;32m--> 230\u001b[0m     values \u001b[39m=\u001b[39m astype_nansafe(values, dtype, copy\u001b[39m=\u001b[39;49mcopy)\n\u001b[1;32m    232\u001b[0m \u001b[39m# in pandas we don't store numpy str dtypes, so convert to object\u001b[39;00m\n\u001b[1;32m    233\u001b[0m \u001b[39mif\u001b[39;00m \u001b[39misinstance\u001b[39m(dtype, np\u001b[39m.\u001b[39mdtype) \u001b[39mand\u001b[39;00m \u001b[39missubclass\u001b[39m(values\u001b[39m.\u001b[39mdtype\u001b[39m.\u001b[39mtype, \u001b[39mstr\u001b[39m):\n",
      "File \u001b[0;32m~/.conda/envs/optimization/lib/python3.10/site-packages/pandas/core/dtypes/astype.py:170\u001b[0m, in \u001b[0;36mastype_nansafe\u001b[0;34m(arr, dtype, copy, skipna)\u001b[0m\n\u001b[1;32m    166\u001b[0m     \u001b[39mraise\u001b[39;00m \u001b[39mValueError\u001b[39;00m(msg)\n\u001b[1;32m    168\u001b[0m \u001b[39mif\u001b[39;00m copy \u001b[39mor\u001b[39;00m is_object_dtype(arr\u001b[39m.\u001b[39mdtype) \u001b[39mor\u001b[39;00m is_object_dtype(dtype):\n\u001b[1;32m    169\u001b[0m     \u001b[39m# Explicit copy, or required since NumPy can't view from / to object.\u001b[39;00m\n\u001b[0;32m--> 170\u001b[0m     \u001b[39mreturn\u001b[39;00m arr\u001b[39m.\u001b[39;49mastype(dtype, copy\u001b[39m=\u001b[39;49m\u001b[39mTrue\u001b[39;49;00m)\n\u001b[1;32m    172\u001b[0m \u001b[39mreturn\u001b[39;00m arr\u001b[39m.\u001b[39mastype(dtype, copy\u001b[39m=\u001b[39mcopy)\n",
      "\u001b[0;31mValueError\u001b[0m: invalid literal for int() with base 10: '-100.0'"
     ]
    }
   ],
   "source": [
    "# convert column types\n",
    "# dtype for variable node features\n",
    "# 1. float\n",
    "# 2. str\n",
    "# 3. int\n",
    "# 4. float\n",
    "# 5. bool\n",
    "# 6. bool\n",
    "# 7. bool\n",
    "# 8. bool\n",
    "# 9. bool\n",
    "# 10. float\n",
    "# 11. float\n",
    "# 12. int\n",
    "# 13. int\n",
    "# 14. float\n",
    "# 15. float\n",
    "# 16. float\n",
    "# 17. float\n",
    "var_column_types = {\n",
    "    \"var_obj_coef\": float,\n",
    "    \"var_type\": str,\n",
    "    \"num_nonzero_coef\": int,\n",
    "    \"lp_relax_val\": float,\n",
    "    \"is_lp_relax_val_frac\": bool,\n",
    "    \"lp_sol_val_eq_lb\": bool,\n",
    "    \"lp_sol_val_eq_ub\": bool,\n",
    "    \"has_lb\": bool,\n",
    "    \"has_ub\": bool,\n",
    "    \"mean_degree\": float,\n",
    "    \"std_degree\": float,\n",
    "    \"min_degree\": int,\n",
    "    \"max_degree\": int,\n",
    "    \"mean_coef\": float,\n",
    "    \"std_coef\": float,\n",
    "    \"min_coef\": float,\n",
    "    \"max_coef\": float,\n",
    "}\n",
    "for i in range(len(corlat_dataset)):\n",
    "    corlat_dataset[i][\"input\"][\"var_node_features\"] = corlat_dataset[i][\n",
    "        \"input\"\n",
    "    ][\"var_node_features\"].astype(var_column_types)"
   ]
  },
  {
   "cell_type": "code",
   "execution_count": null,
   "metadata": {},
   "outputs": [],
   "source": []
  }
 ],
 "metadata": {
  "kernelspec": {
   "display_name": "Python (optimization)",
   "language": "python",
   "name": "optimization"
  },
  "language_info": {
   "codemirror_mode": {
    "name": "ipython",
    "version": 3
   },
   "file_extension": ".py",
   "mimetype": "text/x-python",
   "name": "python",
   "nbconvert_exporter": "python",
   "pygments_lexer": "ipython3",
   "version": "3.10.10"
  },
  "orig_nbformat": 4
 },
 "nbformat": 4,
 "nbformat_minor": 2
}
