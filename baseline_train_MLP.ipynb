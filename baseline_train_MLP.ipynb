{
 "cells": [
  {
   "cell_type": "code",
   "execution_count": 1,
   "metadata": {},
   "outputs": [
    {
     "name": "stderr",
     "output_type": "stream",
     "text": [
      "/opt/homebrew/Caskroom/miniforge/base/envs/me555/lib/python3.9/site-packages/tqdm/auto.py:22: TqdmWarning: IProgress not found. Please update jupyter and ipywidgets. See https://ipywidgets.readthedocs.io/en/stable/user_install.html\n",
      "  from .autonotebook import tqdm as notebook_tqdm\n"
     ]
    }
   ],
   "source": [
    "import numpy as np\n",
    "import pandas as pd\n",
    "import matplotlib.pyplot as plt\n",
    "import torch\n",
    "import torch.nn as nn\n",
    "import torch.nn.functional as F\n",
    "import torch.optim as optim\n",
    "import random\n",
    "\n",
    "\n",
    "from torch.optim import AdamW\n",
    "from torch.utils.data import Dataset, DataLoader\n",
    "from torchvision import transforms, utils\n",
    "\n",
    "import h5py\n",
    "import os\n",
    "import sys\n",
    "import pickle\n",
    "import json\n",
    "\n",
    "from sklearn.model_selection import train_test_split\n",
    "from timeit import default_timer\n",
    "from collections import OrderedDict\n",
    "import dadaptation\n",
    "\n",
    "import wandb\n",
    "import datetime"
   ]
  },
  {
   "cell_type": "code",
   "execution_count": 6,
   "metadata": {},
   "outputs": [],
   "source": [
    "# get device\n",
    "if torch.cuda.is_available():\n",
    "    DEVICE = \"cuda\"\n",
    "elif torch.backends.mps.is_available():\n",
    "    DEVICE = \"mps\"\n",
    "else:\n",
    "    DEVICE = \"cpu\"\n",
    "\n",
    "PROJECT_NAME = 'EVCharging'\n",
    "\n",
    "# Set the random seeds to improve reproducibility by removing stochasticity\n",
    "def set_seeds(seed):\n",
    "    random.seed(seed)\n",
    "    np.random.seed(seed)\n",
    "    torch.manual_seed(seed)\n",
    "    torch.cuda.manual_seed(seed)\n",
    "    torch.backends.cudnn.benchmark = False # Force cuDNN to use a consistent convolution algorithm\n",
    "    torch.backends.cudnn.deterministic = True # Force cuDNN to use deterministic algorithms if available\n",
    "    torch.use_deterministic_algorithms(True) # Force torch to use deterministic algorithms if available\n",
    "\n",
    "set_seeds(0)\n",
    "\n",
    "# for deterministic pytorch algorithms, enable reproducibility.\n",
    "os.environ['CUBLAS_WORKSPACE_CONFIG']= \":4096:8\""
   ]
  },
  {
   "cell_type": "code",
   "execution_count": 7,
   "metadata": {},
   "outputs": [],
   "source": [
    "config = {\n",
    "    'train_val_split': [0.80, 0.20], # These must sum to 1.0\n",
    "    'batch_size' : 32, # Num samples to average over for gradient updates\n",
    "    'EPOCHS' : 200, # Num times to iterate over the entire dataset\n",
    "    'LEARNING_RATE' : 1e-3, # Learning rate for the optimizer\n",
    "    'BETA1' : 0.9, # Beta1 parameter for the Adam optimizer\n",
    "    'BETA2' : 0.999, # Beta2 parameter for the Adam optimizer\n",
    "    'WEIGHT_DECAY' : 1e-4, # Weight decay parameter for the Adam optimizer\n",
    "    'accum_iter': 5, # iterations to accumulate gradients\n",
    "}\n"
   ]
  },
  {
   "cell_type": "code",
   "execution_count": 8,
   "metadata": {},
   "outputs": [],
   "source": [
    "class ToTensor(object):\n",
    "    \"\"\"Convert numpy arrays to tensor arrays\n",
    "    \"\"\"\n",
    "    def __init__(self, device=None):\n",
    "        if device is None:\n",
    "            device = \"cpu\"\n",
    "        self.device = device\n",
    "    \n",
    "    def __call__(self, data):\n",
    "        if self.device == \"cpu\":\n",
    "            return torch.from_numpy(data)\n",
    "        else:\n",
    "            # to overlap data transfers with computation, use non_blocking=True\n",
    "            return torch.from_numpy(data).to(self.device, non_blocking=True, dtype=torch.float32)\n",
    "\n",
    "# %%\n",
    "def get_transforms(transform_dict):\n",
    "    \"\"\"\n",
    "    Given a dictionary of transform parameters, return a list of class instances for each transform\n",
    "    Arguments:\n",
    "        transform_dict (OrderedDict) with optional keys:\n",
    "            ToTensor (dict) if present, requires the 'device' key that indicates the PyTorch device\n",
    "    Returns:\n",
    "        composed_transforms (PyTorch composed transform class) containing the requested transform steps in order\n",
    "    \"\"\"\n",
    "    transform_functions = []\n",
    "    for key in transform_dict.keys():\n",
    "        if key=='ToTensor': # Convert array to a PyTorch Tensor\n",
    "            transform_functions.append(ToTensor(\n",
    "                transform_dict[key]['device']\n",
    "            ))\n",
    "        \n",
    "    composed_transforms = transforms.Compose(transform_functions)\n",
    "    return composed_transforms\n",
    "\n",
    "# %%\n",
    "# create a torch dataset\n",
    "class EVCoordDataset(torch.utils.data.Dataset):\n",
    "    def __init__(self, input_data, output_OnOFf, output_BuySell, transform=None):\n",
    "        self.input_data = input_data\n",
    "        self.output_OnOFf = output_OnOFf\n",
    "        self.output_BuySell = output_BuySell\n",
    "        self.transform = transform\n",
    "\n",
    "    def __len__(self):\n",
    "        return len(self.input_data)\n",
    "\n",
    "    def __getitem__(self, idx):\n",
    "        if torch.is_tensor(idx):\n",
    "            idx = idx.tolist()\n",
    "        \n",
    "        input_data = self.input_data[idx]\n",
    "        output_OnOFf = self.output_OnOFf[idx]\n",
    "        output_BuySell = self.output_BuySell[idx]\n",
    "\n",
    "        if self.transform:\n",
    "            input_data = self.transform(input_data)\n",
    "            output_OnOFf = self.transform(output_OnOFf)\n",
    "            output_BuySell = self.transform(output_BuySell)\n",
    "\n",
    "        return input_data, output_OnOFf, output_BuySell\n",
    "\n",
    "# %%\n",
    "def make_split_artifact(run, train_rows, val_rows):\n",
    "    \"\"\"\n",
    "    Creates a w&b artifact that contains the train and validation rows of the raw data\n",
    "        run (wandb run) returned from wandb.init()\n",
    "        train_rows (list of ints) indices that reference the training rows in the raw_data\n",
    "        val_rows (list of ints) indices that reference the validation rows in the raw_data\n",
    "    \"\"\"\n",
    "    split_artifact = wandb.Artifact(\n",
    "        'data-splits', type='dataset',\n",
    "        description='Train, validation, test dataset splits')\n",
    "\n",
    "    # Our data split artifact will only store index references to the original dataset to save space\n",
    "    split_artifact.add(wandb.Table(\n",
    "        data=pd.DataFrame(train_rows, columns=['indices'])), 'train-data')\n",
    "\n",
    "    split_artifact.add(wandb.Table(\n",
    "        columns=['source'],\n",
    "        data=pd.DataFrame(val_rows, columns=['indices'])), 'val-data')\n",
    "\n",
    "    run.log_artifact(split_artifact)\n",
    "\n",
    "\n",
    "def make_loaders(config, input_data, output_OnOff, output_BuySell):\n",
    "    \"\"\"\n",
    "    Makes data loaders using a artifact containing the dataset splits (created using the make_split_artifact() function)\n",
    "    The function assumes that you have created a data-splits artifact and a data-transforms artifact\n",
    "    Arguments:\n",
    "        config [dict] containing keys:\n",
    "            batch_size (int) amount of rows (i.e. data instances) to be delivered in a single batch\n",
    "    Returns:\n",
    "        train_loader (PyTorch DataLoader) containing the training data\n",
    "        val_loader (PyTorch DataLoader) containing the validation data\n",
    "    \"\"\"\n",
    "    with wandb.init(project=PROJECT_NAME, job_type='package-data', config=config) as run:\n",
    "        # Load transforms\n",
    "        transform_dir = run.use_artifact('data-transforms:latest').download()\n",
    "        transform_dict = json.load(open(os.path.join(transform_dir, 'transforms.txt')), object_pairs_hook=OrderedDict)\n",
    "        composed_transforms = get_transforms(transform_dict)\n",
    "\n",
    "        split_artifact = run.use_artifact('data-splits:latest')\n",
    "\n",
    "        # Load splits\n",
    "        # its a wandb.Table data type so we can use the get() method\n",
    "        train_rows = split_artifact.get('train-data').get_column('indices', convert_to='numpy')\n",
    "        val_rows = split_artifact.get('val-data').get_column('indices', convert_to='numpy')\n",
    "\n",
    "        # Reformat data to (inputs, labels)\n",
    "        train_loader = DataLoader(EVCoordDataset(\n",
    "            input_data[train_rows], output_OnOFf=output_OnOff[train_rows], output_BuySell=output_BuySell[train_rows], transform=composed_transforms),\n",
    "            batch_size=config['batch_size'],\n",
    "            shuffle=True,\n",
    "            num_workers=0\n",
    "        )\n",
    "        val_loader = DataLoader(EVCoordDataset(\n",
    "            input_data[val_rows], output_OnOFf=output_OnOff[val_rows], output_BuySell=output_BuySell[val_rows], transform=composed_transforms),\n",
    "            batch_size=config['batch_size'],\n",
    "            batch_sampler=None,\n",
    "            shuffle=False,\n",
    "            num_workers=0)\n",
    "    \n",
    "    return train_loader, val_loader"
   ]
  },
  {
   "cell_type": "code",
   "execution_count": 9,
   "metadata": {},
   "outputs": [
    {
     "name": "stderr",
     "output_type": "stream",
     "text": [
      "\u001b[34m\u001b[1mwandb\u001b[0m: Currently logged in as: \u001b[33mjinyi12\u001b[0m (\u001b[33mjyyresearch\u001b[0m). Use \u001b[1m`wandb login --relogin`\u001b[0m to force relogin\n"
     ]
    },
    {
     "data": {
      "text/html": [
       "wandb version 0.13.10 is available!  To upgrade, please run:\n",
       " $ pip install wandb --upgrade"
      ],
      "text/plain": [
       "<IPython.core.display.HTML object>"
      ]
     },
     "metadata": {},
     "output_type": "display_data"
    },
    {
     "data": {
      "text/html": [
       "Tracking run with wandb version 0.13.9"
      ],
      "text/plain": [
       "<IPython.core.display.HTML object>"
      ]
     },
     "metadata": {},
     "output_type": "display_data"
    },
    {
     "data": {
      "text/html": [
       "Run data is saved locally in <code>/Users/jinyiyong/Documents/Optimization/DayAheadForecast/wandb/run-20230209_170603-kokmehx2</code>"
      ],
      "text/plain": [
       "<IPython.core.display.HTML object>"
      ]
     },
     "metadata": {},
     "output_type": "display_data"
    },
    {
     "data": {
      "text/html": [
       "Syncing run <strong><a href=\"https://wandb.ai/jyyresearch/EVCharging/runs/kokmehx2\" target=\"_blank\">solar-oath-6</a></strong> to <a href=\"https://wandb.ai/jyyresearch/EVCharging\" target=\"_blank\">Weights & Biases</a> (<a href=\"https://wandb.me/run\" target=\"_blank\">docs</a>)<br/>"
      ],
      "text/plain": [
       "<IPython.core.display.HTML object>"
      ]
     },
     "metadata": {},
     "output_type": "display_data"
    },
    {
     "data": {
      "text/html": [
       " View project at <a href=\"https://wandb.ai/jyyresearch/EVCharging\" target=\"_blank\">https://wandb.ai/jyyresearch/EVCharging</a>"
      ],
      "text/plain": [
       "<IPython.core.display.HTML object>"
      ]
     },
     "metadata": {},
     "output_type": "display_data"
    },
    {
     "data": {
      "text/html": [
       " View run at <a href=\"https://wandb.ai/jyyresearch/EVCharging/runs/kokmehx2\" target=\"_blank\">https://wandb.ai/jyyresearch/EVCharging/runs/kokmehx2</a>"
      ],
      "text/plain": [
       "<IPython.core.display.HTML object>"
      ]
     },
     "metadata": {},
     "output_type": "display_data"
    },
    {
     "name": "stderr",
     "output_type": "stream",
     "text": [
      "\u001b[34m\u001b[1mwandb\u001b[0m: Downloading large artifact EV-coord-raw_data:latest, 1326.33MB. 1 files... \n",
      "\u001b[34m\u001b[1mwandb\u001b[0m:   1 of 1 files downloaded.  \n",
      "Done. 0:0:0.0\n"
     ]
    },
    {
     "data": {
      "text/html": [
       "Waiting for W&B process to finish... <strong style=\"color:green\">(success).</strong>"
      ],
      "text/plain": [
       "<IPython.core.display.HTML object>"
      ]
     },
     "metadata": {},
     "output_type": "display_data"
    },
    {
     "data": {
      "text/html": [
       " View run <strong style=\"color:#cdcd00\">solar-oath-6</strong> at: <a href=\"https://wandb.ai/jyyresearch/EVCharging/runs/kokmehx2\" target=\"_blank\">https://wandb.ai/jyyresearch/EVCharging/runs/kokmehx2</a><br/>Synced 6 W&B file(s), 0 media file(s), 0 artifact file(s) and 0 other file(s)"
      ],
      "text/plain": [
       "<IPython.core.display.HTML object>"
      ]
     },
     "metadata": {},
     "output_type": "display_data"
    },
    {
     "data": {
      "text/html": [
       "Find logs at: <code>./wandb/run-20230209_170603-kokmehx2/logs</code>"
      ],
      "text/plain": [
       "<IPython.core.display.HTML object>"
      ]
     },
     "metadata": {},
     "output_type": "display_data"
    }
   ],
   "source": [
    "with wandb.init(project=PROJECT_NAME, job_type=\"split-data\", config=config) as run:\n",
    "\n",
    "    # Define raw data splits\n",
    "    raw_data = run.use_artifact('jyyresearch/EVCharging/EV-coord-raw_data:latest', type='raw_data')\n",
    "\n",
    "    raw_data_dir = raw_data.download('./Data/')\n",
    "\n",
    "    # read in the h5 files\n",
    "    input_data = h5py.File(os.path.join(raw_data_dir, 'raw_data.hdf5'), 'r')['input_data'][:]\n",
    "    OnOff_output_data = h5py.File(os.path.join(raw_data_dir, 'raw_data.hdf5'), 'r')['OnOff_output_data'][:]\n",
    "    BuySell_output_data = h5py.File(os.path.join(raw_data_dir, 'raw_data.hdf5'), 'r')['BuySell_output_data'][:]\n",
    "\n",
    "\n",
    "    # train test split of gc_data and damage_data. Obtain the respective indices\n",
    "    train_val_split = config['train_val_split']\n",
    "    train_val_indices = np.split(np.random.permutation(len(input_data)), [int(train_val_split[0]*len(input_data))])\n",
    "    \n",
    "    make_split_artifact(run, train_val_indices[0], train_val_indices[1])\n",
    "    "
   ]
  },
  {
   "cell_type": "code",
   "execution_count": 10,
   "metadata": {},
   "outputs": [
    {
     "data": {
      "text/html": [
       "wandb version 0.13.10 is available!  To upgrade, please run:\n",
       " $ pip install wandb --upgrade"
      ],
      "text/plain": [
       "<IPython.core.display.HTML object>"
      ]
     },
     "metadata": {},
     "output_type": "display_data"
    },
    {
     "data": {
      "text/html": [
       "Tracking run with wandb version 0.13.9"
      ],
      "text/plain": [
       "<IPython.core.display.HTML object>"
      ]
     },
     "metadata": {},
     "output_type": "display_data"
    },
    {
     "data": {
      "text/html": [
       "Run data is saved locally in <code>/Users/jinyiyong/Documents/Optimization/DayAheadForecast/wandb/run-20230209_170617-bwx4og8o</code>"
      ],
      "text/plain": [
       "<IPython.core.display.HTML object>"
      ]
     },
     "metadata": {},
     "output_type": "display_data"
    },
    {
     "data": {
      "text/html": [
       "Syncing run <strong><a href=\"https://wandb.ai/jyyresearch/EVCharging/runs/bwx4og8o\" target=\"_blank\">glamorous-valley-7</a></strong> to <a href=\"https://wandb.ai/jyyresearch/EVCharging\" target=\"_blank\">Weights & Biases</a> (<a href=\"https://wandb.me/run\" target=\"_blank\">docs</a>)<br/>"
      ],
      "text/plain": [
       "<IPython.core.display.HTML object>"
      ]
     },
     "metadata": {},
     "output_type": "display_data"
    },
    {
     "data": {
      "text/html": [
       " View project at <a href=\"https://wandb.ai/jyyresearch/EVCharging\" target=\"_blank\">https://wandb.ai/jyyresearch/EVCharging</a>"
      ],
      "text/plain": [
       "<IPython.core.display.HTML object>"
      ]
     },
     "metadata": {},
     "output_type": "display_data"
    },
    {
     "data": {
      "text/html": [
       " View run at <a href=\"https://wandb.ai/jyyresearch/EVCharging/runs/bwx4og8o\" target=\"_blank\">https://wandb.ai/jyyresearch/EVCharging/runs/bwx4og8o</a>"
      ],
      "text/plain": [
       "<IPython.core.display.HTML object>"
      ]
     },
     "metadata": {},
     "output_type": "display_data"
    },
    {
     "data": {
      "text/html": [
       "Waiting for W&B process to finish... <strong style=\"color:green\">(success).</strong>"
      ],
      "text/plain": [
       "<IPython.core.display.HTML object>"
      ]
     },
     "metadata": {},
     "output_type": "display_data"
    },
    {
     "data": {
      "text/html": [
       " View run <strong style=\"color:#cdcd00\">glamorous-valley-7</strong> at: <a href=\"https://wandb.ai/jyyresearch/EVCharging/runs/bwx4og8o\" target=\"_blank\">https://wandb.ai/jyyresearch/EVCharging/runs/bwx4og8o</a><br/>Synced 5 W&B file(s), 0 media file(s), 0 artifact file(s) and 0 other file(s)"
      ],
      "text/plain": [
       "<IPython.core.display.HTML object>"
      ]
     },
     "metadata": {},
     "output_type": "display_data"
    },
    {
     "data": {
      "text/html": [
       "Find logs at: <code>./wandb/run-20230209_170617-bwx4og8o/logs</code>"
      ],
      "text/plain": [
       "<IPython.core.display.HTML object>"
      ]
     },
     "metadata": {},
     "output_type": "display_data"
    },
    {
     "data": {
      "text/html": [
       "wandb version 0.13.10 is available!  To upgrade, please run:\n",
       " $ pip install wandb --upgrade"
      ],
      "text/plain": [
       "<IPython.core.display.HTML object>"
      ]
     },
     "metadata": {},
     "output_type": "display_data"
    },
    {
     "data": {
      "text/html": [
       "Tracking run with wandb version 0.13.9"
      ],
      "text/plain": [
       "<IPython.core.display.HTML object>"
      ]
     },
     "metadata": {},
     "output_type": "display_data"
    },
    {
     "data": {
      "text/html": [
       "Run data is saved locally in <code>/Users/jinyiyong/Documents/Optimization/DayAheadForecast/wandb/run-20230209_170626-agisim78</code>"
      ],
      "text/plain": [
       "<IPython.core.display.HTML object>"
      ]
     },
     "metadata": {},
     "output_type": "display_data"
    },
    {
     "data": {
      "text/html": [
       "Syncing run <strong><a href=\"https://wandb.ai/jyyresearch/EVCharging/runs/agisim78\" target=\"_blank\">logical-breeze-8</a></strong> to <a href=\"https://wandb.ai/jyyresearch/EVCharging\" target=\"_blank\">Weights & Biases</a> (<a href=\"https://wandb.me/run\" target=\"_blank\">docs</a>)<br/>"
      ],
      "text/plain": [
       "<IPython.core.display.HTML object>"
      ]
     },
     "metadata": {},
     "output_type": "display_data"
    },
    {
     "data": {
      "text/html": [
       " View project at <a href=\"https://wandb.ai/jyyresearch/EVCharging\" target=\"_blank\">https://wandb.ai/jyyresearch/EVCharging</a>"
      ],
      "text/plain": [
       "<IPython.core.display.HTML object>"
      ]
     },
     "metadata": {},
     "output_type": "display_data"
    },
    {
     "data": {
      "text/html": [
       " View run at <a href=\"https://wandb.ai/jyyresearch/EVCharging/runs/agisim78\" target=\"_blank\">https://wandb.ai/jyyresearch/EVCharging/runs/agisim78</a>"
      ],
      "text/plain": [
       "<IPython.core.display.HTML object>"
      ]
     },
     "metadata": {},
     "output_type": "display_data"
    },
    {
     "name": "stderr",
     "output_type": "stream",
     "text": [
      "\u001b[34m\u001b[1mwandb\u001b[0m:   1 of 1 files downloaded.  \n",
      "\u001b[34m\u001b[1mwandb\u001b[0m:   2 of 2 files downloaded.  \n",
      "\u001b[34m\u001b[1mwandb\u001b[0m:   2 of 2 files downloaded.  \n"
     ]
    },
    {
     "data": {
      "text/html": [
       "Waiting for W&B process to finish... <strong style=\"color:green\">(success).</strong>"
      ],
      "text/plain": [
       "<IPython.core.display.HTML object>"
      ]
     },
     "metadata": {},
     "output_type": "display_data"
    },
    {
     "data": {
      "text/html": [
       " View run <strong style=\"color:#cdcd00\">logical-breeze-8</strong> at: <a href=\"https://wandb.ai/jyyresearch/EVCharging/runs/agisim78\" target=\"_blank\">https://wandb.ai/jyyresearch/EVCharging/runs/agisim78</a><br/>Synced 6 W&B file(s), 0 media file(s), 0 artifact file(s) and 0 other file(s)"
      ],
      "text/plain": [
       "<IPython.core.display.HTML object>"
      ]
     },
     "metadata": {},
     "output_type": "display_data"
    },
    {
     "data": {
      "text/html": [
       "Find logs at: <code>./wandb/run-20230209_170626-agisim78/logs</code>"
      ],
      "text/plain": [
       "<IPython.core.display.HTML object>"
      ]
     },
     "metadata": {},
     "output_type": "display_data"
    }
   ],
   "source": [
    "# Define an initial set of transforms that we think will be useful\n",
    "with wandb.init(project=PROJECT_NAME, job_type='define-transforms', config=config) as run:\n",
    "    transform_dict = OrderedDict()\n",
    "    transform_dict['ToTensor'] = {\n",
    "        'device': DEVICE\n",
    "    }\n",
    "    # Include an operational index to verify the order\n",
    "    for key_idx, key in enumerate(transform_dict.keys()):\n",
    "        transform_dict[key]['order'] = key_idx\n",
    "    # Create an artifact for logging the transforms\n",
    "    data_transform_artifact = wandb.Artifact(\n",
    "        'data-transforms', type='parameters',\n",
    "        description='Data preprocessing functions and parameters.',\n",
    "        metadata=transform_dict) # Optional for viewing on the web app; the data is also stored in the txt file below\n",
    "    # Log the transforms in JSON format\n",
    "    with data_transform_artifact.new_file('transforms.txt') as f:\n",
    "        f.write(json.dumps(transform_dict, indent=4))\n",
    "    run.log_artifact(data_transform_artifact)\n",
    "\n",
    "config.update(transform_dict)\n",
    "\n",
    "train_loader, val_loader = make_loaders(config, input_data=input_data, output_OnOff=OnOff_output_data, output_BuySell=BuySell_output_data)"
   ]
  },
  {
   "cell_type": "code",
   "execution_count": 11,
   "metadata": {},
   "outputs": [],
   "source": [
    "# config for model\n",
    "step_size = 50\n",
    "gamma = 0.5"
   ]
  },
  {
   "cell_type": "code",
   "execution_count": 12,
   "metadata": {},
   "outputs": [],
   "source": [
    "def train(model, device, train_loader, optimizer, config):\n",
    "    model.train()\n",
    "    train_loss = 0\n",
    "\n",
    "    # binary cross entropy loss, dont average\n",
    "    myloss = nn.BCELoss(reduction='none')\n",
    "\n",
    "    accum_iter = config['accum_iter']\n",
    "\n",
    "    for batch_idx, (input_data, output_OnOff, output_BuySell) in enumerate(train_loader):        \n",
    "    \n",
    "        input_data = input_data.to(device)\n",
    "\n",
    "        predicted_OnOff, predicted_BuySell = model(input_data)\n",
    "\n",
    "        loss_data_OnOff = myloss(output_OnOff, predicted_OnOff)\n",
    "        loss_data_BuySell = myloss(output_BuySell, predicted_BuySell)\n",
    "\n",
    "        loss = loss_data_OnOff + loss_data_BuySell\n",
    "        loss.backward()\n",
    "\n",
    "        # perform gradient accumulation\n",
    "        if ((batch_idx + 1) % accum_iter == 0) or (batch_idx + 1 == len(train_loader)):\n",
    "            optimizer.step()\n",
    "            optimizer.zero_grad(set_to_none=True)\n",
    "\n",
    "\n",
    "        train_loss += loss.item()\n",
    "        \n",
    "    train_loss /= len(train_loader.dataset)\n",
    "    return train_loss"
   ]
  },
  {
   "cell_type": "code",
   "execution_count": 13,
   "metadata": {},
   "outputs": [],
   "source": [
    "def validate(model, device, valid_loader, model_iphi, config):\n",
    "\n",
    "    model.eval()\n",
    "    valid_loss = 0\n",
    "\n",
    "    data_list = []\n",
    "    output_OnOff_list = []\n",
    "    output_BuySell_list = []\n",
    "\n",
    "\n",
    "    with torch.no_grad():\n",
    "        \n",
    "        myloss = nn.BCELoss(reduction='none')\n",
    "\n",
    "        for batch_idx, (input_data, output_OnOff, output_BuySell) in enumerate(valid_loader):      \n",
    "            input_data = input_data.to(device)\n",
    "\n",
    "            predicted_OnOff, predicted_BuySell = model(input_data)\n",
    "\n",
    "            loss_data_OnOff = myloss(output_OnOff, predicted_OnOff)\n",
    "            loss_data_BuySell = myloss(output_BuySell, predicted_BuySell)\n",
    "\n",
    "            loss = loss_data_OnOff + loss_data_BuySell\n",
    "            valid_loss += loss.item()\n",
    "\n",
    "            data_list.append(input_data)\n",
    "            output_OnOff_list.append(output_OnOff)\n",
    "            output_BuySell_list.append(output_BuySell)\n",
    "\n",
    "    valid_loss /= len(valid_loader.dataset)\n",
    "\n",
    "    return valid_loss, data_list, output_OnOff_list, output_BuySell_list"
   ]
  },
  {
   "cell_type": "code",
   "execution_count": 14,
   "metadata": {},
   "outputs": [],
   "source": [
    "class BaseNet(nn.Module):\n",
    "    def __init__(\n",
    "        self, input_size: int, nEVs: int, output_size_OnOff: int, output_size_BuySell: int, n_neurons: int,          \n",
    "        ):\n",
    "\n",
    "        super(BaseNet, self).__init__()\n",
    "\n",
    "        self.input_size = input_size\n",
    "        self.nEVs = nEVs\n",
    "\n",
    "        self.fc1 = nn.Linear(input_size, n_neurons)\n",
    "        # weight initialization (Lecun Normal Default)\n",
    "        nn.init.kaiming_normal_(self.fc1.weight, mode='fan_in', nonlinearity='linear')\n",
    "\n",
    "        self.fc2 = nn.Linear(n_neurons, 2*n_neurons)\n",
    "        nn.init.kaiming_normal_(self.fc2.weight, mode='fan_in', nonlinearity='linear')\n",
    "\n",
    "        self.fc3 = nn.Linear(2*n_neurons, 4*n_neurons)\n",
    "        nn.init.kaiming_normal_(self.fc3.weight, mode='fan_in', nonlinearity='linear')\n",
    "\n",
    "        self.fc4_1 = nn.Linear(4*n_neurons, output_size_OnOff)\n",
    "\n",
    "        self.fc4_2 = nn.Linear(4*n_neurons * nEVs, output_size_BuySell)\n",
    "\n",
    "        self.sigmoid = nn.Sigmoid()\n",
    "\n",
    "        self.selu = nn.SELU(True)\n",
    "        # self.relu = nn.ReLU(True)\n",
    "\n",
    "        # layer normalization\n",
    "        self.layer_norm1 = nn.LayerNorm(n_neurons)\n",
    "        self.layer_norm2 = nn.LayerNorm(2*n_neurons)\n",
    "        self.layer_norm3 = nn.LayerNorm(4*n_neurons)\n",
    "        \n",
    "\n",
    "    def forward(self, x):\n",
    "\n",
    "        # selu\n",
    "        x = self.selu(self.fc1(x))\n",
    "        x = self.layer_norm1(x)\n",
    "        x = self.selu(self.fc2(x))\n",
    "        x = self.layer_norm2(x)\n",
    "        x = self.selu(self.fc3(x))\n",
    "        x = self.layer_norm3(x)\n",
    "        x = self.selu(self.fc4_1(x))\n",
    "        x = self.sigmoid(x)\n",
    "\n",
    "        x2 = x.view(x.shape[0], -1)\n",
    "        x2 = self.selu(self.fc4_2(x2))\n",
    "        x2 = self.sigmoid(x2)\n",
    "\n",
    "        return x, x2"
   ]
  },
  {
   "cell_type": "code",
   "execution_count": 15,
   "metadata": {},
   "outputs": [
    {
     "data": {
      "text/html": [
       "wandb version 0.13.10 is available!  To upgrade, please run:\n",
       " $ pip install wandb --upgrade"
      ],
      "text/plain": [
       "<IPython.core.display.HTML object>"
      ]
     },
     "metadata": {},
     "output_type": "display_data"
    },
    {
     "data": {
      "text/html": [
       "Tracking run with wandb version 0.13.9"
      ],
      "text/plain": [
       "<IPython.core.display.HTML object>"
      ]
     },
     "metadata": {},
     "output_type": "display_data"
    },
    {
     "data": {
      "text/html": [
       "Run data is saved locally in <code>/Users/jinyiyong/Documents/Optimization/DayAheadForecast/wandb/run-20230209_170710-m35ox4nt</code>"
      ],
      "text/plain": [
       "<IPython.core.display.HTML object>"
      ]
     },
     "metadata": {},
     "output_type": "display_data"
    },
    {
     "data": {
      "text/html": [
       "Syncing run <strong><a href=\"https://wandb.ai/jyyresearch/EVCharging/runs/m35ox4nt\" target=\"_blank\">20230209_1707</a></strong> to <a href=\"https://wandb.ai/jyyresearch/EVCharging\" target=\"_blank\">Weights & Biases</a> (<a href=\"https://wandb.me/run\" target=\"_blank\">docs</a>)<br/>"
      ],
      "text/plain": [
       "<IPython.core.display.HTML object>"
      ]
     },
     "metadata": {},
     "output_type": "display_data"
    },
    {
     "data": {
      "text/html": [
       " View project at <a href=\"https://wandb.ai/jyyresearch/EVCharging\" target=\"_blank\">https://wandb.ai/jyyresearch/EVCharging</a>"
      ],
      "text/plain": [
       "<IPython.core.display.HTML object>"
      ]
     },
     "metadata": {},
     "output_type": "display_data"
    },
    {
     "data": {
      "text/html": [
       " View run at <a href=\"https://wandb.ai/jyyresearch/EVCharging/runs/m35ox4nt\" target=\"_blank\">https://wandb.ai/jyyresearch/EVCharging/runs/m35ox4nt</a>"
      ],
      "text/plain": [
       "<IPython.core.display.HTML object>"
      ]
     },
     "metadata": {},
     "output_type": "display_data"
    },
    {
     "ename": "",
     "evalue": "",
     "output_type": "error",
     "traceback": [
      "\u001b[1;31mThe Kernel crashed while executing code in the the current cell or a previous cell. Please review the code in the cell(s) to identify a possible cause of the failure. Click <a href='https://aka.ms/vscodeJupyterKernelCrash'>here</a> for more info. View Jupyter <a href='command:jupyter.viewOutput'>log</a> for further details."
     ]
    },
    {
     "ename": "",
     "evalue": "",
     "output_type": "error",
     "traceback": [
      "\u001b[1;31mCanceled future for execute_request message before replies were done"
     ]
    }
   ],
   "source": [
    "# for deterministic pytorch algorithms, enable reproducibility.\n",
    "os.environ[\"CUBLAS_WORKSPACE_CONFIG\"] = \":4096:8\"\n",
    "\n",
    "n_list = [200]\n",
    "\n",
    "LOCAL_MODEL_DIR = \"Model/model_FNO2D.pt\"\n",
    "LOCAL_MODEL_IPHI_DIR = \"Model/model_iphi_FNO2D.pt\"\n",
    "\n",
    "BETA1 = config[\"BETA1\"]\n",
    "BETA2 = config[\"BETA2\"]\n",
    "\n",
    "EPOCHS = config[\"EPOCHS\"]\n",
    "BATCH_SIZE = config[\"batch_size\"]\n",
    "\n",
    "MODEL_NAME = \"model_BaseNet\"\n",
    "\n",
    "for i in range(len(n_list)):\n",
    "\n",
    "    min_valid_loss = np.inf\n",
    "\n",
    "    width = n_list[i]\n",
    "\n",
    "    N_neurons_str = str(width)\n",
    "    MODEL_NAME_RUN = MODEL_NAME + N_neurons_str\n",
    "\n",
    "    today = datetime.datetime.now()\n",
    "\n",
    "    model = BaseNet(\n",
    "        input_size=input_data.shape[-1],\n",
    "        nEVs=input_data.shape[1],\n",
    "        output_size_OnOff=OnOff_output_data.shape[-1],\n",
    "        output_size_BuySell=BuySell_output_data.shape[-1],\n",
    "        n_neurons=width,\n",
    "    ).to(device=DEVICE)\n",
    "\n",
    "    params = list(model.parameters())\n",
    "    optimizer = AdamW(params, lr=config[\"LEARNING_RATE\"], weight_decay=1e-4)\n",
    "    optimizer = dadaptation.DAdaptAdam(\n",
    "        params, lr=1, log_every=5, betas=(BETA1, BETA2), growth_rate=1.01\n",
    "    )\n",
    "    scheduler = torch.optim.lr_scheduler.StepLR(optimizer, step_size=step_size, gamma=gamma)\n",
    "\n",
    "    train_loss_list = []\n",
    "    valid_loss_list = []\n",
    "\n",
    "    data_list = []\n",
    "    output_list = []\n",
    "\n",
    "    wandb.init(\n",
    "        anonymous=\"allow\",\n",
    "        project=PROJECT_NAME,\n",
    "        name=today.strftime(\"%Y%m%d_%H%M\"),\n",
    "        config={\n",
    "            \"epochs\": EPOCHS,\n",
    "            \"optimizer\": \"Adam\",\n",
    "            \"batch_size\": BATCH_SIZE * config[\"accum_iter\"],\n",
    "            \"lr\": \"1e-3\",\n",
    "            \"step_size\": step_size,\n",
    "            \"gamma\": gamma,\n",
    "            \"width\": width,\n",
    "            \"loss \": \"L2Loss\",\n",
    "            \"activation func\": \"SELU\",\n",
    "            \"lr decay\": \"steplr, gamma=0.5\",\n",
    "            \"architecture\": \"FNO2D - IPHI - accum_gradient(no mesh features)\",\n",
    "        },\n",
    "    )\n",
    "\n",
    "    for epoch in range(1, EPOCHS + 1):\n",
    "\n",
    "        # get current learning rate\n",
    "        curr_lr = optimizer.param_groups[0][\"lr\"]\n",
    "\n",
    "        train_loss = train(model, DEVICE, train_loader, optimizer, config)\n",
    "\n",
    "        scheduler.step()\n",
    "\n",
    "        valid_loss, data_list, output_list, damage_list = validate(\n",
    "            model, DEVICE, val_loader, config\n",
    "        )\n",
    "        print(\n",
    "            \"Epoch: {:03d}, Train Loss: {:.7f}, Valid Loss: {:.7f}, LR: {:.7f}\".format(\n",
    "                epoch, train_loss, valid_loss, curr_lr\n",
    "            )\n",
    "        )\n",
    "        # wandb.log({'train_loss': train_loss, 'valid_loss': valid_loss})\n",
    "        train_loss_list.append(train_loss)\n",
    "        valid_loss_list.append(valid_loss)\n",
    "\n",
    "        if valid_loss < min_valid_loss:\n",
    "            print(\n",
    "                \"Validation loss decreased ({:.6f} --> {:.6f}).  Saving model ...\".format(\n",
    "                    min_valid_loss, valid_loss\n",
    "                )\n",
    "            )\n",
    "            min_valid_loss = valid_loss\n",
    "            best_epoch = epoch\n",
    "            # save model with current hour as name\n",
    "            torch.save(model.state_dict(), LOCAL_MODEL_DIR)\n",
    "            print(\"Saved model at epoch {}\".format(epoch))\n",
    "\n",
    "\n",
    "                # version control model\n",
    "        run = wandb.init(project=PROJECT_NAME, job_type='version-model', config=config)\n",
    "        trained_model_at = wandb.Artifact(PROJECT_NAME + N_neurons_str, type=\"model\", description=\"trained baseline for \" + PROJECT_NAME)\n",
    "        trained_model_at.add_file(LOCAL_MODEL_DIR, name=MODEL_NAME_RUN + '.pt')\n",
    "        run.log_artifact(trained_model_at)\n",
    "        run.finish()"
   ]
  },
  {
   "cell_type": "code",
   "execution_count": null,
   "metadata": {},
   "outputs": [],
   "source": [
    "# version control model\n",
    "run = wandb.init(project=PROJECT_NAME, job_type='version-model', config=config)\n",
    "trained_model_at = wandb.Artifact(\"FNO2D\", type=\"model\", description=\"trained baseline for FNO2D\", aliases=['baseline', 'latest'])\n",
    "trained_model_at.add_file(LOCAL_MODEL_DIR, name='model_FNO2D.pt')\n",
    "trained_model_at.add_file(LOCAL_MODEL_IPHI_DIR, name='model_iphi_FNO2D.pt')\n",
    "run.log_artifact(trained_model_at)\n",
    "run.finish()"
   ]
  },
  {
   "cell_type": "code",
   "execution_count": null,
   "metadata": {},
   "outputs": [],
   "source": [
    "# version control model\n",
    "run = wandb.init(project=PROJECT_NAME, job_type=\"inference\", config=config)\n",
    "trained_model_at = run.use_artifact(\"FNO2D:latest\", type=\"model\")\n",
    "model_dir = trained_model_at.download()\n",
    "\n",
    "# load best model\n",
    "model = FNO2D.FNO2d(modes, modes, width=32, in_channels=3, out_channels=1, s1=s, s2=s).cuda()\n",
    "model_iphi = FNO2D.IPHI_constant(width=32).cuda()\n",
    "\n",
    "model = model.load_state_dict(torch.load(os.path.join(model_dir, 'model_FNO2D.pt')))\n",
    "model_iphi = model_iphi.load_state_dict(torch.load(os.path.join(model_dir, 'model_iphi_FNO2D.pt')))\n",
    "run.finish()"
   ]
  },
  {
   "cell_type": "code",
   "execution_count": null,
   "metadata": {},
   "outputs": [],
   "source": [
    "valid_loss, data_list, output_list, damage_list = validate(model, device, val_loader, model_iphi, config)"
   ]
  }
 ],
 "metadata": {
  "kernelspec": {
   "display_name": "me555",
   "language": "python",
   "name": "python3"
  },
  "language_info": {
   "codemirror_mode": {
    "name": "ipython",
    "version": 3
   },
   "file_extension": ".py",
   "mimetype": "text/x-python",
   "name": "python",
   "nbconvert_exporter": "python",
   "pygments_lexer": "ipython3",
   "version": "3.9.10"
  },
  "orig_nbformat": 4,
  "vscode": {
   "interpreter": {
    "hash": "4bfffb94d4f394d40f3219e4c71363d8e81f8d192d707bcd4bb6fae6b6748fb0"
   }
  }
 },
 "nbformat": 4,
 "nbformat_minor": 2
}
