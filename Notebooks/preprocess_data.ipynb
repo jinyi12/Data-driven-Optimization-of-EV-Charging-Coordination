{
 "cells": [
  {
   "cell_type": "code",
   "execution_count": 1,
   "metadata": {},
   "outputs": [
    {
     "name": "stderr",
     "output_type": "stream",
     "text": [
      "/opt/homebrew/Caskroom/miniforge/base/envs/me555/lib/python3.9/site-packages/tqdm/auto.py:22: TqdmWarning: IProgress not found. Please update jupyter and ipywidgets. See https://ipywidgets.readthedocs.io/en/stable/user_install.html\n",
      "  from .autonotebook import tqdm as notebook_tqdm\n"
     ]
    }
   ],
   "source": [
    "import numpy as np\n",
    "import pandas as pd\n",
    "import matplotlib.pyplot as plt\n",
    "import seaborn as sns\n",
    "import scipy\n",
    "import sys\n",
    "import datetime\n",
    "import os\n",
    "import h5py\n",
    "\n",
    "import random\n",
    "import wandb\n",
    "import torch"
   ]
  },
  {
   "cell_type": "code",
   "execution_count": 2,
   "metadata": {},
   "outputs": [],
   "source": [
    "output1 = pd.read_csv('../Data/output/output_1.csv')\n",
    "input_df1 = output1.groupby('i').agg({'tHin_i': 'first', 'tHout_i': 'first', 'SOC': 'first'})"
   ]
  },
  {
   "cell_type": "code",
   "execution_count": 18,
   "metadata": {},
   "outputs": [
    {
     "name": "stdout",
     "output_type": "stream",
     "text": [
      "scenarios_1.csv\n",
      "scenarios_2.csv\n",
      "scenarios_3.csv\n",
      "scenarios_4.csv\n",
      "scenarios_5.csv\n",
      "scenarios_6.csv\n",
      "scenarios_7.csv\n",
      "scenarios_8.csv\n",
      "scenarios_9.csv\n",
      "scenarios_10.csv\n",
      "scenarios_11.csv\n",
      "scenarios_12.csv\n",
      "scenarios_13.csv\n",
      "scenarios_14.csv\n",
      "scenarios_15.csv\n",
      "scenarios_16.csv\n",
      "scenarios_17.csv\n",
      "scenarios_18.csv\n",
      "scenarios_19.csv\n",
      "scenarios_20.csv\n",
      "scenarios_21.csv\n",
      "scenarios_22.csv\n",
      "scenarios_23.csv\n",
      "scenarios_24.csv\n",
      "scenarios_25.csv\n",
      "scenarios_26.csv\n",
      "scenarios_27.csv\n",
      "scenarios_28.csv\n",
      "scenarios_29.csv\n",
      "scenarios_30.csv\n"
     ]
    }
   ],
   "source": [
    "\n",
    "path = '../Data/scenarios'\n",
    "all_files = os.listdir(path)\n",
    "\n",
    "# sort files according to last digit\n",
    "all_files.sort(key=lambda x: int(x.split('_')[-1].split('.')[0]))\n",
    "\n",
    "li = []\n",
    "for filename in all_files:\n",
    "    # no header, no index\n",
    "    print(filename)\n",
    "    df = pd.read_csv(path + '/' + filename, header=None, index_col=None)\n",
    "    li.append(df)\n",
    "solar_df = pd.concat(li, axis=0, ignore_index=True)"
   ]
  },
  {
   "cell_type": "code",
   "execution_count": 19,
   "metadata": {},
   "outputs": [
    {
     "name": "stdout",
     "output_type": "stream",
     "text": [
      "nScenarios:  3000\n",
      "nTimeSteps:  48\n",
      "nEVs:  300\n"
     ]
    }
   ],
   "source": [
    "nScenarios = solar_df.shape[0]\n",
    "nTimeSteps = solar_df.shape[1]\n",
    "nEVs = input_df1.shape[0]\n",
    "\n",
    "print('nScenarios: ', nScenarios)\n",
    "print('nTimeSteps: ', nTimeSteps)\n",
    "print('nEVs: ', nEVs)\n"
   ]
  },
  {
   "cell_type": "code",
   "execution_count": 20,
   "metadata": {},
   "outputs": [],
   "source": [
    "# TOU prices\n",
    "nbTime = 48\n",
    "off_peak = 0.281\n",
    "mid_peak = 0.357\n",
    "peak = 0.584\n",
    "\n",
    "peak_times = [\n",
    "    (0, 16, off_peak),\n",
    "    (16, 22, mid_peak),\n",
    "    (22, 24, peak),\n",
    "    (24, 28, mid_peak),\n",
    "    (28, 34, peak),\n",
    "    (34, 40, mid_peak),\n",
    "    (40, 48, off_peak),\n",
    "]\n",
    "\n",
    "TOUPurchasePrice = [0.0] * nbTime\n",
    "TOUSellPrice = [0.0] * nbTime\n",
    "\n",
    "for t in range(nbTime):\n",
    "    for start, end, price in peak_times:\n",
    "        if start <= t < end:\n",
    "            TOUPurchasePrice[t] = price\n",
    "            TOUSellPrice[t] = 0.9 * price\n",
    "            break\n"
   ]
  },
  {
   "cell_type": "code",
   "execution_count": 21,
   "metadata": {},
   "outputs": [],
   "source": [
    "# expand solar_df t0 [nScenarios, nTimeSteps ,1]\n",
    "# solar_array = solar_df.values.reshape(nScenarios, nTimeSteps, 1)\n",
    "solar_array = solar_df.values\n",
    "\n",
    "TOUPurchasePrice = np.array(TOUPurchasePrice).reshape(1, nTimeSteps)\n",
    "\n",
    "# repeat TOU purchase price for nScenarios scenarios\n",
    "TOUPurchasePrice = np.repeat(TOUPurchasePrice, nScenarios, axis=0)"
   ]
  },
  {
   "cell_type": "code",
   "execution_count": 22,
   "metadata": {},
   "outputs": [
    {
     "data": {
      "text/plain": [
       "(3000, 48)"
      ]
     },
     "execution_count": 22,
     "metadata": {},
     "output_type": "execute_result"
    }
   ],
   "source": [
    "TOUPurchasePrice.shape"
   ]
  },
  {
   "cell_type": "code",
   "execution_count": 23,
   "metadata": {},
   "outputs": [
    {
     "data": {
      "text/html": [
       "<div>\n",
       "<style scoped>\n",
       "    .dataframe tbody tr th:only-of-type {\n",
       "        vertical-align: middle;\n",
       "    }\n",
       "\n",
       "    .dataframe tbody tr th {\n",
       "        vertical-align: top;\n",
       "    }\n",
       "\n",
       "    .dataframe thead th {\n",
       "        text-align: right;\n",
       "    }\n",
       "</style>\n",
       "<table border=\"1\" class=\"dataframe\">\n",
       "  <thead>\n",
       "    <tr style=\"text-align: right;\">\n",
       "      <th></th>\n",
       "      <th>tHin_i</th>\n",
       "      <th>tHout_i</th>\n",
       "      <th>SOC</th>\n",
       "    </tr>\n",
       "    <tr>\n",
       "      <th>i</th>\n",
       "      <th></th>\n",
       "      <th></th>\n",
       "      <th></th>\n",
       "    </tr>\n",
       "  </thead>\n",
       "  <tbody>\n",
       "    <tr>\n",
       "      <th>0</th>\n",
       "      <td>22</td>\n",
       "      <td>32</td>\n",
       "      <td>0.521269</td>\n",
       "    </tr>\n",
       "    <tr>\n",
       "      <th>1</th>\n",
       "      <td>14</td>\n",
       "      <td>34</td>\n",
       "      <td>0.506830</td>\n",
       "    </tr>\n",
       "    <tr>\n",
       "      <th>2</th>\n",
       "      <td>22</td>\n",
       "      <td>34</td>\n",
       "      <td>0.538214</td>\n",
       "    </tr>\n",
       "    <tr>\n",
       "      <th>3</th>\n",
       "      <td>26</td>\n",
       "      <td>34</td>\n",
       "      <td>0.490184</td>\n",
       "    </tr>\n",
       "    <tr>\n",
       "      <th>4</th>\n",
       "      <td>14</td>\n",
       "      <td>24</td>\n",
       "      <td>0.534222</td>\n",
       "    </tr>\n",
       "    <tr>\n",
       "      <th>...</th>\n",
       "      <td>...</td>\n",
       "      <td>...</td>\n",
       "      <td>...</td>\n",
       "    </tr>\n",
       "    <tr>\n",
       "      <th>295</th>\n",
       "      <td>18</td>\n",
       "      <td>34</td>\n",
       "      <td>0.542584</td>\n",
       "    </tr>\n",
       "    <tr>\n",
       "      <th>296</th>\n",
       "      <td>20</td>\n",
       "      <td>36</td>\n",
       "      <td>0.660097</td>\n",
       "    </tr>\n",
       "    <tr>\n",
       "      <th>297</th>\n",
       "      <td>26</td>\n",
       "      <td>36</td>\n",
       "      <td>0.469156</td>\n",
       "    </tr>\n",
       "    <tr>\n",
       "      <th>298</th>\n",
       "      <td>18</td>\n",
       "      <td>38</td>\n",
       "      <td>0.639379</td>\n",
       "    </tr>\n",
       "    <tr>\n",
       "      <th>299</th>\n",
       "      <td>12</td>\n",
       "      <td>36</td>\n",
       "      <td>0.665402</td>\n",
       "    </tr>\n",
       "  </tbody>\n",
       "</table>\n",
       "<p>300 rows × 3 columns</p>\n",
       "</div>"
      ],
      "text/plain": [
       "     tHin_i  tHout_i       SOC\n",
       "i                             \n",
       "0        22       32  0.521269\n",
       "1        14       34  0.506830\n",
       "2        22       34  0.538214\n",
       "3        26       34  0.490184\n",
       "4        14       24  0.534222\n",
       "..      ...      ...       ...\n",
       "295      18       34  0.542584\n",
       "296      20       36  0.660097\n",
       "297      26       36  0.469156\n",
       "298      18       38  0.639379\n",
       "299      12       36  0.665402\n",
       "\n",
       "[300 rows x 3 columns]"
      ]
     },
     "execution_count": 23,
     "metadata": {},
     "output_type": "execute_result"
    }
   ],
   "source": [
    "input_df1"
   ]
  },
  {
   "cell_type": "code",
   "execution_count": 24,
   "metadata": {},
   "outputs": [
    {
     "data": {
      "text/plain": [
       "(3000, 48)"
      ]
     },
     "execution_count": 24,
     "metadata": {},
     "output_type": "execute_result"
    }
   ],
   "source": [
    "TOUPurchasePrice.shape"
   ]
  },
  {
   "cell_type": "code",
   "execution_count": 25,
   "metadata": {},
   "outputs": [
    {
     "data": {
      "text/html": [
       "<div>\n",
       "<style scoped>\n",
       "    .dataframe tbody tr th:only-of-type {\n",
       "        vertical-align: middle;\n",
       "    }\n",
       "\n",
       "    .dataframe tbody tr th {\n",
       "        vertical-align: top;\n",
       "    }\n",
       "\n",
       "    .dataframe thead th {\n",
       "        text-align: right;\n",
       "    }\n",
       "</style>\n",
       "<table border=\"1\" class=\"dataframe\">\n",
       "  <thead>\n",
       "    <tr style=\"text-align: right;\">\n",
       "      <th></th>\n",
       "      <th>tHin_i</th>\n",
       "      <th>tHout_i</th>\n",
       "      <th>SOC</th>\n",
       "    </tr>\n",
       "    <tr>\n",
       "      <th>i</th>\n",
       "      <th></th>\n",
       "      <th></th>\n",
       "      <th></th>\n",
       "    </tr>\n",
       "  </thead>\n",
       "  <tbody>\n",
       "    <tr>\n",
       "      <th>0</th>\n",
       "      <td>22</td>\n",
       "      <td>32</td>\n",
       "      <td>0.521269</td>\n",
       "    </tr>\n",
       "    <tr>\n",
       "      <th>1</th>\n",
       "      <td>14</td>\n",
       "      <td>34</td>\n",
       "      <td>0.506830</td>\n",
       "    </tr>\n",
       "    <tr>\n",
       "      <th>2</th>\n",
       "      <td>22</td>\n",
       "      <td>34</td>\n",
       "      <td>0.538214</td>\n",
       "    </tr>\n",
       "    <tr>\n",
       "      <th>3</th>\n",
       "      <td>26</td>\n",
       "      <td>34</td>\n",
       "      <td>0.490184</td>\n",
       "    </tr>\n",
       "    <tr>\n",
       "      <th>4</th>\n",
       "      <td>14</td>\n",
       "      <td>24</td>\n",
       "      <td>0.534222</td>\n",
       "    </tr>\n",
       "    <tr>\n",
       "      <th>...</th>\n",
       "      <td>...</td>\n",
       "      <td>...</td>\n",
       "      <td>...</td>\n",
       "    </tr>\n",
       "    <tr>\n",
       "      <th>295</th>\n",
       "      <td>18</td>\n",
       "      <td>34</td>\n",
       "      <td>0.542584</td>\n",
       "    </tr>\n",
       "    <tr>\n",
       "      <th>296</th>\n",
       "      <td>20</td>\n",
       "      <td>36</td>\n",
       "      <td>0.660097</td>\n",
       "    </tr>\n",
       "    <tr>\n",
       "      <th>297</th>\n",
       "      <td>26</td>\n",
       "      <td>36</td>\n",
       "      <td>0.469156</td>\n",
       "    </tr>\n",
       "    <tr>\n",
       "      <th>298</th>\n",
       "      <td>18</td>\n",
       "      <td>38</td>\n",
       "      <td>0.639379</td>\n",
       "    </tr>\n",
       "    <tr>\n",
       "      <th>299</th>\n",
       "      <td>12</td>\n",
       "      <td>36</td>\n",
       "      <td>0.665402</td>\n",
       "    </tr>\n",
       "  </tbody>\n",
       "</table>\n",
       "<p>300 rows × 3 columns</p>\n",
       "</div>"
      ],
      "text/plain": [
       "     tHin_i  tHout_i       SOC\n",
       "i                             \n",
       "0        22       32  0.521269\n",
       "1        14       34  0.506830\n",
       "2        22       34  0.538214\n",
       "3        26       34  0.490184\n",
       "4        14       24  0.534222\n",
       "..      ...      ...       ...\n",
       "295      18       34  0.542584\n",
       "296      20       36  0.660097\n",
       "297      26       36  0.469156\n",
       "298      18       38  0.639379\n",
       "299      12       36  0.665402\n",
       "\n",
       "[300 rows x 3 columns]"
      ]
     },
     "execution_count": 25,
     "metadata": {},
     "output_type": "execute_result"
    }
   ],
   "source": [
    "input_df1"
   ]
  },
  {
   "cell_type": "code",
   "execution_count": 26,
   "metadata": {},
   "outputs": [],
   "source": [
    "#  for each EV in input_df1, make tHin_i and tHout_i as one-hot vectors and make 2D array\n",
    "\n",
    "Tin_onehot = np.zeros((input_df1.shape[0], nTimeSteps))\n",
    "Tout_onehot = np.zeros((input_df1.shape[0], nTimeSteps))\n",
    "\n",
    "for i in range(input_df1.shape[0]):\n",
    "    Tin_onehot[i, input_df1['tHin_i'].iloc[i]] = 1\n",
    "    Tout_onehot[i, input_df1['tHout_i'].iloc[i]] = 1\n",
    "\n",
    "\n",
    "# perform element-wise OR for numpy arrays\n",
    "Tin_out_onehot = np.zeros(Tin_onehot.shape)\n",
    "for i in range(Tin_onehot.shape[0]):\n",
    "    Tin_out_onehot[i, :] = np.logical_or(Tin_onehot[i], Tout_onehot[i])"
   ]
  },
  {
   "cell_type": "code",
   "execution_count": 27,
   "metadata": {},
   "outputs": [
    {
     "data": {
      "text/plain": [
       "(300, 48)"
      ]
     },
     "execution_count": 27,
     "metadata": {},
     "output_type": "execute_result"
    }
   ],
   "source": [
    "Tin_out_onehot.shape"
   ]
  },
  {
   "cell_type": "code",
   "execution_count": 28,
   "metadata": {},
   "outputs": [],
   "source": [
    "# repeat Tin_out_onehot for nScenarios scenarios\n",
    "Tin_out_onehot_data = np.repeat(Tin_out_onehot.reshape(1, nEVs, nTimeSteps), nScenarios, axis=0)\n",
    "\n",
    "# repeat solar_array for nEVs EVs\n",
    "# solar_array_data = np.repeat(solar_array.reshape(nScenarios, -1, nTimeSteps), nEVs, axis=1)\n",
    "solar_array_data = solar_array.copy()"
   ]
  },
  {
   "cell_type": "code",
   "execution_count": 29,
   "metadata": {},
   "outputs": [
    {
     "data": {
      "text/plain": [
       "(3000, 48)"
      ]
     },
     "execution_count": 29,
     "metadata": {},
     "output_type": "execute_result"
    }
   ],
   "source": [
    "TOUPurchasePrice.shape"
   ]
  },
  {
   "cell_type": "code",
   "execution_count": 30,
   "metadata": {},
   "outputs": [],
   "source": [
    "# repeat TOUPurchasePrice for nEVs EVs\n",
    "# TOUPurchasePrice_data = np.repeat(TOUPurchasePrice.reshape(nScenarios, -1, nTimeSteps), nEVs, axis=1)\n",
    "TOUPurchasePrice_data = TOUPurchasePrice.copy()\n",
    "\n",
    "# repeat SOC for nScenarios scenarios and expand to [nScenarios, nEVs, 1]\n",
    "# SOC_data = np.repeat(input_df1['SOC'].values.reshape(1, nEVs), nScenarios, axis=0).reshape(nScenarios, nEVs, 1)\n",
    "SOC_data = np.repeat(input_df1['SOC'].values.reshape(1, nEVs), nScenarios, axis=0)"
   ]
  },
  {
   "cell_type": "code",
   "execution_count": 31,
   "metadata": {},
   "outputs": [
    {
     "name": "stdout",
     "output_type": "stream",
     "text": [
      "solar array shape:  (3000, 48)\n",
      "Tin_out_onehot shape:  (3000, 300, 48)\n",
      "TOUPurchasePrice shape:  (3000, 48)\n",
      "SOC shape:  (3000, 300)\n"
     ]
    }
   ],
   "source": [
    "print(\"solar array shape: \", solar_array_data.shape)\n",
    "print(\"Tin_out_onehot shape: \", Tin_out_onehot_data.shape)\n",
    "print(\"TOUPurchasePrice shape: \", TOUPurchasePrice_data.shape)\n",
    "print(\"SOC shape: \", SOC_data.shape)"
   ]
  },
  {
   "cell_type": "code",
   "execution_count": 32,
   "metadata": {},
   "outputs": [],
   "source": [
    "Tin_out_onehot_data_reshaped = Tin_out_onehot_data.reshape(nScenarios, -1)"
   ]
  },
  {
   "cell_type": "code",
   "execution_count": 33,
   "metadata": {},
   "outputs": [
    {
     "data": {
      "text/plain": [
       "(3000, 14400)"
      ]
     },
     "execution_count": 33,
     "metadata": {},
     "output_type": "execute_result"
    }
   ],
   "source": [
    "Tin_out_onehot_data_reshaped.shape"
   ]
  },
  {
   "cell_type": "code",
   "execution_count": 36,
   "metadata": {},
   "outputs": [],
   "source": [
    "# concatenate all data\n",
    "input_data = np.concatenate((solar_array_data, Tin_out_onehot_data_reshaped, TOUPurchasePrice_data, SOC_data), axis=1)"
   ]
  },
  {
   "attachments": {},
   "cell_type": "markdown",
   "metadata": {},
   "source": [
    "### Now create output data"
   ]
  },
  {
   "cell_type": "code",
   "execution_count": 37,
   "metadata": {},
   "outputs": [
    {
     "data": {
      "text/plain": [
       "(3000, 14796)"
      ]
     },
     "execution_count": 37,
     "metadata": {},
     "output_type": "execute_result"
    }
   ],
   "source": [
    "input_data.shape"
   ]
  },
  {
   "cell_type": "code",
   "execution_count": 38,
   "metadata": {},
   "outputs": [
    {
     "name": "stdout",
     "output_type": "stream",
     "text": [
      "output_1.csv\n",
      "output_2.csv\n",
      "output_3.csv\n",
      "output_4.csv\n",
      "output_5.csv\n",
      "output_6.csv\n",
      "output_7.csv\n",
      "output_8.csv\n",
      "output_9.csv\n",
      "output_10.csv\n",
      "output_11.csv\n",
      "output_12.csv\n",
      "output_13.csv\n",
      "output_14.csv\n",
      "output_15.csv\n",
      "output_16.csv\n",
      "output_17.csv\n",
      "output_18.csv\n",
      "output_19.csv\n",
      "output_20.csv\n",
      "output_21.csv\n",
      "output_22.csv\n",
      "output_23.csv\n",
      "output_24.csv\n",
      "output_25.csv\n",
      "output_26.csv\n",
      "output_27.csv\n",
      "output_28.csv\n",
      "output_29.csv\n",
      "output_30.csv\n"
     ]
    }
   ],
   "source": [
    "path = '../Data/output'\n",
    "all_files = os.listdir(path)\n",
    "\n",
    "# sort files according to last digit\n",
    "all_files.sort(key=lambda x: int(x.split('_')[-1].split('.')[0]))\n",
    "\n",
    "li = []\n",
    "for filename in all_files:\n",
    "    # no header, no index\n",
    "    print(filename)\n",
    "    df = pd.read_csv(path + '/' + filename, index_col=None)\n",
    "\n",
    "    df.drop(['tHin_i', 'tHout_i', 'SOC', 'DayAheadUtilityPowerOutput', 'DayAheadChargingPower'], axis=1, inplace=True)\n",
    "\n",
    "    li.append(df)\n",
    "# output_df = pd.concat(li, axis=0, ignore_index=True)"
   ]
  },
  {
   "cell_type": "code",
   "execution_count": 41,
   "metadata": {},
   "outputs": [],
   "source": [
    "def create_output(df_list):\n",
    "\n",
    "    OnOff_output_data = np.zeros((nScenarios, nEVs, nTimeSteps))\n",
    "    BuySell_output_data = np.zeros((nScenarios, nTimeSteps))\n",
    "\n",
    "    for i in range(len(df_list)):\n",
    "        df = df_list[i]\n",
    "        scaler = i * 100\n",
    "\n",
    "        # do not modify original df in df_list\n",
    "        tmp_df = df.copy()\n",
    "        tmp_df['Scenario'] = tmp_df['Scenario'] + scaler\n",
    "\n",
    "        tmp_numpy = tmp_df.to_numpy()\n",
    "\n",
    "        # print(tmp_numpy[:, 0].max())\n",
    "        for j in range(len(tmp_numpy)):\n",
    "            scenario = tmp_numpy[j, 0]\n",
    "\n",
    "            # if(j % 100 == 0):\n",
    "            #     print(\"scenario is: \", scenario)\n",
    "\n",
    "            time = tmp_numpy[j, 1]\n",
    "            ev = tmp_numpy[j, 2]\n",
    "            buysellstatus = tmp_numpy[j, 3]\n",
    "            onoffchargingstatus = tmp_numpy[j, 4]\n",
    "\n",
    "            OnOff_output_data[scenario, ev, time] = onoffchargingstatus\n",
    "            BuySell_output_data[scenario, time] = buysellstatus\n",
    "\n",
    "    OnOff_output_data_reshaped = OnOff_output_data.reshape(nScenarios, -1)\n",
    "    output = np.concatenate((OnOff_output_data_reshaped, BuySell_output_data), axis=1)\n",
    "\n",
    "    return output"
   ]
  },
  {
   "cell_type": "code",
   "execution_count": 42,
   "metadata": {},
   "outputs": [],
   "source": [
    "output = create_output(li)"
   ]
  },
  {
   "cell_type": "code",
   "execution_count": 43,
   "metadata": {},
   "outputs": [
    {
     "data": {
      "text/html": [
       "<div>\n",
       "<style scoped>\n",
       "    .dataframe tbody tr th:only-of-type {\n",
       "        vertical-align: middle;\n",
       "    }\n",
       "\n",
       "    .dataframe tbody tr th {\n",
       "        vertical-align: top;\n",
       "    }\n",
       "\n",
       "    .dataframe thead th {\n",
       "        text-align: right;\n",
       "    }\n",
       "</style>\n",
       "<table border=\"1\" class=\"dataframe\">\n",
       "  <thead>\n",
       "    <tr style=\"text-align: right;\">\n",
       "      <th></th>\n",
       "      <th>Scenario</th>\n",
       "      <th>Time</th>\n",
       "      <th>i</th>\n",
       "      <th>DayAheadBuySellStatus</th>\n",
       "      <th>DayAheadOnOffChargingStatus</th>\n",
       "    </tr>\n",
       "  </thead>\n",
       "  <tbody>\n",
       "    <tr>\n",
       "      <th>0</th>\n",
       "      <td>0</td>\n",
       "      <td>0</td>\n",
       "      <td>0</td>\n",
       "      <td>1</td>\n",
       "      <td>0</td>\n",
       "    </tr>\n",
       "    <tr>\n",
       "      <th>1</th>\n",
       "      <td>0</td>\n",
       "      <td>0</td>\n",
       "      <td>1</td>\n",
       "      <td>1</td>\n",
       "      <td>0</td>\n",
       "    </tr>\n",
       "    <tr>\n",
       "      <th>2</th>\n",
       "      <td>0</td>\n",
       "      <td>0</td>\n",
       "      <td>2</td>\n",
       "      <td>1</td>\n",
       "      <td>0</td>\n",
       "    </tr>\n",
       "    <tr>\n",
       "      <th>3</th>\n",
       "      <td>0</td>\n",
       "      <td>0</td>\n",
       "      <td>3</td>\n",
       "      <td>1</td>\n",
       "      <td>0</td>\n",
       "    </tr>\n",
       "    <tr>\n",
       "      <th>4</th>\n",
       "      <td>0</td>\n",
       "      <td>0</td>\n",
       "      <td>4</td>\n",
       "      <td>1</td>\n",
       "      <td>0</td>\n",
       "    </tr>\n",
       "  </tbody>\n",
       "</table>\n",
       "</div>"
      ],
      "text/plain": [
       "   Scenario  Time  i  DayAheadBuySellStatus  DayAheadOnOffChargingStatus\n",
       "0         0     0  0                      1                            0\n",
       "1         0     0  1                      1                            0\n",
       "2         0     0  2                      1                            0\n",
       "3         0     0  3                      1                            0\n",
       "4         0     0  4                      1                            0"
      ]
     },
     "execution_count": 43,
     "metadata": {},
     "output_type": "execute_result"
    }
   ],
   "source": [
    "li[-1].head()"
   ]
  },
  {
   "cell_type": "code",
   "execution_count": 44,
   "metadata": {},
   "outputs": [],
   "source": [
    "# save input_data and output_data to hdf5 file\n",
    "with h5py.File('../Data/raw_data.hdf5', 'w') as f:\n",
    "    f.create_dataset('input_data', data=input_data)\n",
    "    f.create_dataset('output_data', data=output)"
   ]
  },
  {
   "cell_type": "code",
   "execution_count": 46,
   "metadata": {},
   "outputs": [],
   "source": [
    "# get device\n",
    "if torch.cuda.is_available():\n",
    "    DEVICE = \"cuda\"\n",
    "else:\n",
    "    DEVICE = \"cpu\"\n",
    "\n",
    "PROJECT_NAME = 'EVCharging'\n",
    "\n",
    "# Set the random seeds to improve reproducibility by removing stochasticity\n",
    "def set_seeds(seed):\n",
    "    random.seed(seed)\n",
    "    np.random.seed(seed)\n",
    "    torch.manual_seed(seed)\n",
    "    torch.cuda.manual_seed(seed)\n",
    "    torch.backends.cudnn.benchmark = False # Force cuDNN to use a consistent convolution algorithm\n",
    "    torch.backends.cudnn.deterministic = True # Force cuDNN to use deterministic algorithms if available\n",
    "    torch.use_deterministic_algorithms(True) # Force torch to use deterministic algorithms if available\n",
    "\n",
    "set_seeds(0)\n",
    "\n",
    "# for deterministic pytorch algorithms, enable reproducibility.\n",
    "os.environ['CUBLAS_WORKSPACE_CONFIG']= \":4096:8\""
   ]
  },
  {
   "cell_type": "code",
   "execution_count": 47,
   "metadata": {},
   "outputs": [],
   "source": [
    "config = {\n",
    "    'train_val_split': [0.80, 0.20], # These must sum to 1.0\n",
    "    'batch_size' : 32, # Num samples to average over for gradient updates\n",
    "    'EPOCHS' : 200, # Num times to iterate over the entire dataset\n",
    "    'LEARNING_RATE' : 1e-3, # Learning rate for the optimizer\n",
    "    'BETA1' : 0.9, # Beta1 parameter for the Adam optimizer\n",
    "    'BETA2' : 0.999, # Beta2 parameter for the Adam optimizer\n",
    "    'WEIGHT_DECAY' : 1e-4, # Weight decay parameter for the Adam optimizer\n",
    "    'accum_iter': 8, # iterations to accumulate gradients\n",
    "}"
   ]
  },
  {
   "cell_type": "code",
   "execution_count": 48,
   "metadata": {},
   "outputs": [
    {
     "name": "stderr",
     "output_type": "stream",
     "text": [
      "\u001b[34m\u001b[1mwandb\u001b[0m: Currently logged in as: \u001b[33mjinyi12\u001b[0m (\u001b[33mjyyresearch\u001b[0m). Use \u001b[1m`wandb login --relogin`\u001b[0m to force relogin\n"
     ]
    },
    {
     "data": {
      "text/html": [
       "wandb version 0.13.10 is available!  To upgrade, please run:\n",
       " $ pip install wandb --upgrade"
      ],
      "text/plain": [
       "<IPython.core.display.HTML object>"
      ]
     },
     "metadata": {},
     "output_type": "display_data"
    },
    {
     "data": {
      "text/html": [
       "Tracking run with wandb version 0.13.9"
      ],
      "text/plain": [
       "<IPython.core.display.HTML object>"
      ]
     },
     "metadata": {},
     "output_type": "display_data"
    },
    {
     "data": {
      "text/html": [
       "Run data is saved locally in <code>/Users/jinyiyong/Documents/Optimization/DayAheadForecast/Notebooks/wandb/run-20230209_233905-sh658u0i</code>"
      ],
      "text/plain": [
       "<IPython.core.display.HTML object>"
      ]
     },
     "metadata": {},
     "output_type": "display_data"
    },
    {
     "data": {
      "text/html": [
       "Syncing run <strong><a href=\"https://wandb.ai/jyyresearch/EVCharging/runs/sh658u0i\" target=\"_blank\">golden-oath-19</a></strong> to <a href=\"https://wandb.ai/jyyresearch/EVCharging\" target=\"_blank\">Weights & Biases</a> (<a href=\"https://wandb.me/run\" target=\"_blank\">docs</a>)<br/>"
      ],
      "text/plain": [
       "<IPython.core.display.HTML object>"
      ]
     },
     "metadata": {},
     "output_type": "display_data"
    },
    {
     "data": {
      "text/html": [
       " View project at <a href=\"https://wandb.ai/jyyresearch/EVCharging\" target=\"_blank\">https://wandb.ai/jyyresearch/EVCharging</a>"
      ],
      "text/plain": [
       "<IPython.core.display.HTML object>"
      ]
     },
     "metadata": {},
     "output_type": "display_data"
    },
    {
     "data": {
      "text/html": [
       " View run at <a href=\"https://wandb.ai/jyyresearch/EVCharging/runs/sh658u0i\" target=\"_blank\">https://wandb.ai/jyyresearch/EVCharging/runs/sh658u0i</a>"
      ],
      "text/plain": [
       "<IPython.core.display.HTML object>"
      ]
     },
     "metadata": {},
     "output_type": "display_data"
    },
    {
     "data": {
      "text/html": [
       "Waiting for W&B process to finish... <strong style=\"color:green\">(success).</strong>"
      ],
      "text/plain": [
       "<IPython.core.display.HTML object>"
      ]
     },
     "metadata": {},
     "output_type": "display_data"
    },
    {
     "data": {
      "text/html": [
       " View run <strong style=\"color:#cdcd00\">golden-oath-19</strong> at: <a href=\"https://wandb.ai/jyyresearch/EVCharging/runs/sh658u0i\" target=\"_blank\">https://wandb.ai/jyyresearch/EVCharging/runs/sh658u0i</a><br/>Synced 5 W&B file(s), 0 media file(s), 1 artifact file(s) and 0 other file(s)"
      ],
      "text/plain": [
       "<IPython.core.display.HTML object>"
      ]
     },
     "metadata": {},
     "output_type": "display_data"
    },
    {
     "data": {
      "text/html": [
       "Find logs at: <code>./wandb/run-20230209_233905-sh658u0i/logs</code>"
      ],
      "text/plain": [
       "<IPython.core.display.HTML object>"
      ]
     },
     "metadata": {},
     "output_type": "display_data"
    }
   ],
   "source": [
    "run = wandb.init(project=PROJECT_NAME, entity=\"jyyresearch\", config=config)\n",
    "raw_data = wandb.Artifact('EV-coord-raw_data', type='raw_data')\n",
    "raw_data.add_file('../Data/raw_data.hdf5')\n",
    "run.log_artifact(raw_data)\n",
    "run.finish()"
   ]
  }
 ],
 "metadata": {
  "kernelspec": {
   "display_name": "me555",
   "language": "python",
   "name": "python3"
  },
  "language_info": {
   "codemirror_mode": {
    "name": "ipython",
    "version": 3
   },
   "file_extension": ".py",
   "mimetype": "text/x-python",
   "name": "python",
   "nbconvert_exporter": "python",
   "pygments_lexer": "ipython3",
   "version": "3.9.10"
  },
  "orig_nbformat": 4,
  "vscode": {
   "interpreter": {
    "hash": "4bfffb94d4f394d40f3219e4c71363d8e81f8d192d707bcd4bb6fae6b6748fb0"
   }
  }
 },
 "nbformat": 4,
 "nbformat_minor": 2
}
